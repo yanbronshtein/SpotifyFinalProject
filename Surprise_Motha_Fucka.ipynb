{
 "cells": [
  {
   "cell_type": "code",
   "execution_count": 2,
   "id": "7ef6211a-d8a2-4f24-bdb3-6f74810c1533",
   "metadata": {},
   "outputs": [
    {
     "name": "stdout",
     "output_type": "stream",
     "text": [
      "Defaulting to user installation because normal site-packages is not writeable\n",
      "Requirement already satisfied: scikit-learn in /koko/system/anaconda/envs/python38/lib/python3.8/site-packages (0.24.2)\n",
      "Collecting scikit-learn\n",
      "  Using cached scikit_learn-1.0.1-cp38-cp38-manylinux_2_12_x86_64.manylinux2010_x86_64.whl (25.9 MB)\n",
      "Collecting scikit-surprise\n",
      "  Using cached scikit-surprise-1.1.1.tar.gz (11.8 MB)\n",
      "Requirement already satisfied: numpy in /common/home/as3592/.local/lib/python3.8/site-packages (1.21.4)\n",
      "Requirement already satisfied: joblib>=0.11 in /koko/system/anaconda/envs/python38/lib/python3.8/site-packages (from scikit-learn) (1.0.1)\n",
      "Requirement already satisfied: scipy>=1.1.0 in /koko/system/anaconda/envs/python38/lib/python3.8/site-packages (from scikit-learn) (1.5.3)\n",
      "Requirement already satisfied: threadpoolctl>=2.0.0 in /koko/system/anaconda/envs/python38/lib/python3.8/site-packages (from scikit-learn) (2.1.0)\n",
      "Requirement already satisfied: six>=1.10.0 in /common/home/as3592/.local/lib/python3.8/site-packages (from scikit-surprise) (1.15.0)\n",
      "Building wheels for collected packages: scikit-surprise\n",
      "  Building wheel for scikit-surprise (setup.py) ... \u001b[?25ldone\n",
      "\u001b[?25h  Created wheel for scikit-surprise: filename=scikit_surprise-1.1.1-cp38-cp38-linux_x86_64.whl size=2138307 sha256=966621d252a95d88c6e082c64d158a54e80346cf77e48ee80671abf92756544c\n",
      "  Stored in directory: /common/home/as3592/.cache/pip/wheels/20/91/57/2965d4cff1b8ac7ed1b6fa25741882af3974b54a31759e10b6\n",
      "Successfully built scikit-surprise\n",
      "Installing collected packages: scikit-surprise, scikit-learn\n",
      "\u001b[33m  WARNING: The script surprise is installed in '/common/home/as3592/.local/bin' which is not on PATH.\n",
      "  Consider adding this directory to PATH or, if you prefer to suppress this warning, use --no-warn-script-location.\u001b[0m\n",
      "Successfully installed scikit-learn-1.0.1 scikit-surprise-1.1.1\n"
     ]
    }
   ],
   "source": [
    "!pip install -U scikit-learn scikit-surprise numpy"
   ]
  },
  {
   "cell_type": "code",
   "execution_count": 1,
   "id": "ef816557-4237-46ab-a325-1e3ed3e110df",
   "metadata": {},
   "outputs": [],
   "source": [
    "from surprise import Dataset\n",
    "from surprise import Reader\n",
    "import pandas as pd\n",
    "import numpy as np\n",
    "import random"
   ]
  },
  {
   "cell_type": "code",
   "execution_count": 4,
   "id": "1c4eb551-98de-48d9-9abc-cfa726c8dc94",
   "metadata": {},
   "outputs": [
    {
     "data": {
      "text/html": [
       "<div>\n",
       "<style scoped>\n",
       "    .dataframe tbody tr th:only-of-type {\n",
       "        vertical-align: middle;\n",
       "    }\n",
       "\n",
       "    .dataframe tbody tr th {\n",
       "        vertical-align: top;\n",
       "    }\n",
       "\n",
       "    .dataframe thead th {\n",
       "        text-align: right;\n",
       "    }\n",
       "</style>\n",
       "<table border=\"1\" class=\"dataframe\">\n",
       "  <thead>\n",
       "    <tr style=\"text-align: right;\">\n",
       "      <th></th>\n",
       "      <th>user_id</th>\n",
       "      <th>\"artistname\"</th>\n",
       "      <th>\"trackname\"</th>\n",
       "      <th>\"playlistname\"</th>\n",
       "    </tr>\n",
       "  </thead>\n",
       "  <tbody>\n",
       "    <tr>\n",
       "      <th>0</th>\n",
       "      <td>9cc0cfd4d7d7885102480dd99e7a90d6</td>\n",
       "      <td>Elvis Costello</td>\n",
       "      <td>(The Angels Wanna Wear My) Red Shoes</td>\n",
       "      <td>HARD ROCK 2010</td>\n",
       "    </tr>\n",
       "    <tr>\n",
       "      <th>1</th>\n",
       "      <td>9cc0cfd4d7d7885102480dd99e7a90d6</td>\n",
       "      <td>Paul McCartney</td>\n",
       "      <td>Band On The Run</td>\n",
       "      <td>HARD ROCK 2010</td>\n",
       "    </tr>\n",
       "    <tr>\n",
       "      <th>2</th>\n",
       "      <td>9cc0cfd4d7d7885102480dd99e7a90d6</td>\n",
       "      <td>Lissie</td>\n",
       "      <td>Everywhere I Go</td>\n",
       "      <td>HARD ROCK 2010</td>\n",
       "    </tr>\n",
       "    <tr>\n",
       "      <th>3</th>\n",
       "      <td>9cc0cfd4d7d7885102480dd99e7a90d6</td>\n",
       "      <td>The Len Price 3</td>\n",
       "      <td>Man Who Used To Be</td>\n",
       "      <td>HARD ROCK 2010</td>\n",
       "    </tr>\n",
       "    <tr>\n",
       "      <th>4</th>\n",
       "      <td>9cc0cfd4d7d7885102480dd99e7a90d6</td>\n",
       "      <td>Cocktail Slippers</td>\n",
       "      <td>Mastermind</td>\n",
       "      <td>HARD ROCK 2010</td>\n",
       "    </tr>\n",
       "  </tbody>\n",
       "</table>\n",
       "</div>"
      ],
      "text/plain": [
       "                            user_id       \"artistname\"  \\\n",
       "0  9cc0cfd4d7d7885102480dd99e7a90d6     Elvis Costello   \n",
       "1  9cc0cfd4d7d7885102480dd99e7a90d6     Paul McCartney   \n",
       "2  9cc0cfd4d7d7885102480dd99e7a90d6             Lissie   \n",
       "3  9cc0cfd4d7d7885102480dd99e7a90d6    The Len Price 3   \n",
       "4  9cc0cfd4d7d7885102480dd99e7a90d6  Cocktail Slippers   \n",
       "\n",
       "                            \"trackname\"  \"playlistname\"  \n",
       "0  (The Angels Wanna Wear My) Red Shoes  HARD ROCK 2010  \n",
       "1                       Band On The Run  HARD ROCK 2010  \n",
       "2                       Everywhere I Go  HARD ROCK 2010  \n",
       "3                    Man Who Used To Be  HARD ROCK 2010  \n",
       "4                            Mastermind  HARD ROCK 2010  "
      ]
     },
     "execution_count": 4,
     "metadata": {},
     "output_type": "execute_result"
    }
   ],
   "source": [
    "p = 0.1\n",
    "df = pd.read_csv('data/spotify_dataset.csv', error_bad_lines=False, warn_bad_lines=False, skiprows=lambda i: i>0 and random.random() > p)\n",
    "df.head()"
   ]
  },
  {
   "cell_type": "code",
   "execution_count": 5,
   "id": "64c0d22b-cf92-40a2-ad24-cd8968e069d4",
   "metadata": {},
   "outputs": [
    {
     "data": {
      "text/plain": [
       "Index(['user_id', 'artist', 'track', 'playlist'], dtype='object')"
      ]
     },
     "execution_count": 5,
     "metadata": {},
     "output_type": "execute_result"
    }
   ],
   "source": [
    "df.columns = df.columns.str.replace('\"', '')\n",
    "df.columns = df.columns.str.replace('name', '')\n",
    "df.columns = df.columns.str.replace(' ', '')\n",
    "df.columns"
   ]
  },
  {
   "cell_type": "code",
   "execution_count": 6,
   "id": "fc286c9b-4e85-4635-a5c0-23a3d67f6b77",
   "metadata": {},
   "outputs": [
    {
     "data": {
      "text/html": [
       "<div>\n",
       "<style scoped>\n",
       "    .dataframe tbody tr th:only-of-type {\n",
       "        vertical-align: middle;\n",
       "    }\n",
       "\n",
       "    .dataframe tbody tr th {\n",
       "        vertical-align: top;\n",
       "    }\n",
       "\n",
       "    .dataframe thead th {\n",
       "        text-align: right;\n",
       "    }\n",
       "</style>\n",
       "<table border=\"1\" class=\"dataframe\">\n",
       "  <thead>\n",
       "    <tr style=\"text-align: right;\">\n",
       "      <th></th>\n",
       "      <th>user_id</th>\n",
       "      <th>artist</th>\n",
       "      <th>track</th>\n",
       "      <th>playlist</th>\n",
       "      <th>artist_track</th>\n",
       "    </tr>\n",
       "  </thead>\n",
       "  <tbody>\n",
       "    <tr>\n",
       "      <th>0</th>\n",
       "      <td>9cc0cfd4d7d7885102480dd99e7a90d6</td>\n",
       "      <td>Elvis Costello</td>\n",
       "      <td>(The Angels Wanna Wear My) Red Shoes</td>\n",
       "      <td>HARD ROCK 2010</td>\n",
       "      <td>ElvisCostello-(TheAngelsWannaWearMy)RedShoes</td>\n",
       "    </tr>\n",
       "    <tr>\n",
       "      <th>1</th>\n",
       "      <td>9cc0cfd4d7d7885102480dd99e7a90d6</td>\n",
       "      <td>Paul McCartney</td>\n",
       "      <td>Band On The Run</td>\n",
       "      <td>HARD ROCK 2010</td>\n",
       "      <td>PaulMcCartney-BandOnTheRun</td>\n",
       "    </tr>\n",
       "    <tr>\n",
       "      <th>2</th>\n",
       "      <td>9cc0cfd4d7d7885102480dd99e7a90d6</td>\n",
       "      <td>Lissie</td>\n",
       "      <td>Everywhere I Go</td>\n",
       "      <td>HARD ROCK 2010</td>\n",
       "      <td>Lissie-EverywhereIGo</td>\n",
       "    </tr>\n",
       "    <tr>\n",
       "      <th>3</th>\n",
       "      <td>9cc0cfd4d7d7885102480dd99e7a90d6</td>\n",
       "      <td>The Len Price 3</td>\n",
       "      <td>Man Who Used To Be</td>\n",
       "      <td>HARD ROCK 2010</td>\n",
       "      <td>TheLenPrice3-ManWhoUsedToBe</td>\n",
       "    </tr>\n",
       "    <tr>\n",
       "      <th>4</th>\n",
       "      <td>9cc0cfd4d7d7885102480dd99e7a90d6</td>\n",
       "      <td>Cocktail Slippers</td>\n",
       "      <td>Mastermind</td>\n",
       "      <td>HARD ROCK 2010</td>\n",
       "      <td>CocktailSlippers-Mastermind</td>\n",
       "    </tr>\n",
       "  </tbody>\n",
       "</table>\n",
       "</div>"
      ],
      "text/plain": [
       "                            user_id             artist  \\\n",
       "0  9cc0cfd4d7d7885102480dd99e7a90d6     Elvis Costello   \n",
       "1  9cc0cfd4d7d7885102480dd99e7a90d6     Paul McCartney   \n",
       "2  9cc0cfd4d7d7885102480dd99e7a90d6             Lissie   \n",
       "3  9cc0cfd4d7d7885102480dd99e7a90d6    The Len Price 3   \n",
       "4  9cc0cfd4d7d7885102480dd99e7a90d6  Cocktail Slippers   \n",
       "\n",
       "                                  track        playlist  \\\n",
       "0  (The Angels Wanna Wear My) Red Shoes  HARD ROCK 2010   \n",
       "1                       Band On The Run  HARD ROCK 2010   \n",
       "2                       Everywhere I Go  HARD ROCK 2010   \n",
       "3                    Man Who Used To Be  HARD ROCK 2010   \n",
       "4                            Mastermind  HARD ROCK 2010   \n",
       "\n",
       "                                   artist_track  \n",
       "0  ElvisCostello-(TheAngelsWannaWearMy)RedShoes  \n",
       "1                    PaulMcCartney-BandOnTheRun  \n",
       "2                          Lissie-EverywhereIGo  \n",
       "3                   TheLenPrice3-ManWhoUsedToBe  \n",
       "4                   CocktailSlippers-Mastermind  "
      ]
     },
     "execution_count": 6,
     "metadata": {},
     "output_type": "execute_result"
    }
   ],
   "source": [
    "df[\"artist_track\"] = df[\"artist\"]  + \"-\" + df[\"track\"]\n",
    "df[\"artist_track\"] = df[\"artist_track\"].str.replace(\" \", \"\")\n",
    "df.head()"
   ]
  },
  {
   "cell_type": "code",
   "execution_count": 7,
   "id": "d173abb8-a7c7-47e6-8608-95e01b7393f3",
   "metadata": {},
   "outputs": [
    {
     "data": {
      "text/html": [
       "<div>\n",
       "<style scoped>\n",
       "    .dataframe tbody tr th:only-of-type {\n",
       "        vertical-align: middle;\n",
       "    }\n",
       "\n",
       "    .dataframe tbody tr th {\n",
       "        vertical-align: top;\n",
       "    }\n",
       "\n",
       "    .dataframe thead th {\n",
       "        text-align: right;\n",
       "    }\n",
       "</style>\n",
       "<table border=\"1\" class=\"dataframe\">\n",
       "  <thead>\n",
       "    <tr style=\"text-align: right;\">\n",
       "      <th></th>\n",
       "      <th>user_id</th>\n",
       "      <th>artist_track</th>\n",
       "      <th>freq</th>\n",
       "    </tr>\n",
       "  </thead>\n",
       "  <tbody>\n",
       "    <tr>\n",
       "      <th>0</th>\n",
       "      <td>00055176fea33f6e027cd3302289378b</td>\n",
       "      <td>5SecondsOfSummer-EnglishLoveAffair</td>\n",
       "      <td>1</td>\n",
       "    </tr>\n",
       "    <tr>\n",
       "      <th>1</th>\n",
       "      <td>00055176fea33f6e027cd3302289378b</td>\n",
       "      <td>5SecondsOfSummer-LongWayHome-Acoustic</td>\n",
       "      <td>1</td>\n",
       "    </tr>\n",
       "    <tr>\n",
       "      <th>2</th>\n",
       "      <td>00055176fea33f6e027cd3302289378b</td>\n",
       "      <td>AgainstTheCurrent-Closer,Faster</td>\n",
       "      <td>1</td>\n",
       "    </tr>\n",
       "    <tr>\n",
       "      <th>3</th>\n",
       "      <td>00055176fea33f6e027cd3302289378b</td>\n",
       "      <td>DemiLovato-MadeInTheUSA</td>\n",
       "      <td>1</td>\n",
       "    </tr>\n",
       "    <tr>\n",
       "      <th>4</th>\n",
       "      <td>00055176fea33f6e027cd3302289378b</td>\n",
       "      <td>FallOutBoy-MySongsKnowWhatYouDidInTheDark(Ligh...</td>\n",
       "      <td>1</td>\n",
       "    </tr>\n",
       "  </tbody>\n",
       "</table>\n",
       "</div>"
      ],
      "text/plain": [
       "                            user_id  \\\n",
       "0  00055176fea33f6e027cd3302289378b   \n",
       "1  00055176fea33f6e027cd3302289378b   \n",
       "2  00055176fea33f6e027cd3302289378b   \n",
       "3  00055176fea33f6e027cd3302289378b   \n",
       "4  00055176fea33f6e027cd3302289378b   \n",
       "\n",
       "                                        artist_track  freq  \n",
       "0                 5SecondsOfSummer-EnglishLoveAffair     1  \n",
       "1              5SecondsOfSummer-LongWayHome-Acoustic     1  \n",
       "2                    AgainstTheCurrent-Closer,Faster     1  \n",
       "3                            DemiLovato-MadeInTheUSA     1  \n",
       "4  FallOutBoy-MySongsKnowWhatYouDidInTheDark(Ligh...     1  "
      ]
     },
     "execution_count": 7,
     "metadata": {},
     "output_type": "execute_result"
    }
   ],
   "source": [
    "size = lambda x: len(x)\n",
    "df_freq = df.groupby(['user_id', 'artist_track']).agg('size').reset_index().rename(columns={0:'freq'})[['user_id', 'artist_track', 'freq']]\n",
    "df_freq.head()"
   ]
  },
  {
   "cell_type": "code",
   "execution_count": 8,
   "id": "48d96dad-3460-42ca-ae1c-86299abb3858",
   "metadata": {},
   "outputs": [],
   "source": [
    "artist_track = pd.unique(df['artist_track'].values.ravel())\n",
    "artist_track = pd.Series(np.arange(len(artist_track)), artist_track)\n",
    "df_freq[\"artist_track_id\"] = df_freq[['artist_track']].applymap(artist_track.get)"
   ]
  },
  {
   "cell_type": "code",
   "execution_count": 9,
   "id": "a2d0806f-628c-4105-99bb-6aa6f5c601ef",
   "metadata": {},
   "outputs": [
    {
     "name": "stdout",
     "output_type": "stream",
     "text": [
      "627526\n"
     ]
    }
   ],
   "source": [
    "print(len(df_freq[\"artist_track\"].unique()))"
   ]
  },
  {
   "cell_type": "code",
   "execution_count": 10,
   "id": "59ff2838-ea4e-4b04-94aa-019e4299b580",
   "metadata": {},
   "outputs": [
    {
     "name": "stdout",
     "output_type": "stream",
     "text": [
      "627526\n"
     ]
    }
   ],
   "source": [
    "print(len(df_freq[\"artist_track_id\"].unique()))"
   ]
  },
  {
   "cell_type": "code",
   "execution_count": 11,
   "id": "2dff3bae-bfc6-41b2-8290-3d95b23b631e",
   "metadata": {},
   "outputs": [
    {
     "name": "stdout",
     "output_type": "stream",
     "text": [
      "1267223\n"
     ]
    }
   ],
   "source": [
    "print(len(df_freq[\"artist_track\"]))"
   ]
  },
  {
   "cell_type": "code",
   "execution_count": 12,
   "id": "fe01d4e2-6399-4293-b60c-bb8c26d17809",
   "metadata": {},
   "outputs": [],
   "source": [
    "artist_track_df = pd.DataFrame(df_freq[\"artist_track_id\"].unique(), columns = [\"artist_track_id\"])"
   ]
  },
  {
   "cell_type": "code",
   "execution_count": 13,
   "id": "3d82544c-7c37-49a2-8311-90dacc37edb5",
   "metadata": {},
   "outputs": [
    {
     "data": {
      "text/html": [
       "<div>\n",
       "<style scoped>\n",
       "    .dataframe tbody tr th:only-of-type {\n",
       "        vertical-align: middle;\n",
       "    }\n",
       "\n",
       "    .dataframe tbody tr th {\n",
       "        vertical-align: top;\n",
       "    }\n",
       "\n",
       "    .dataframe thead th {\n",
       "        text-align: right;\n",
       "    }\n",
       "</style>\n",
       "<table border=\"1\" class=\"dataframe\">\n",
       "  <thead>\n",
       "    <tr style=\"text-align: right;\">\n",
       "      <th></th>\n",
       "      <th>user_id</th>\n",
       "      <th>freq</th>\n",
       "      <th>artist_track_id</th>\n",
       "    </tr>\n",
       "  </thead>\n",
       "  <tbody>\n",
       "    <tr>\n",
       "      <th>0</th>\n",
       "      <td>00055176fea33f6e027cd3302289378b</td>\n",
       "      <td>1</td>\n",
       "      <td>133644</td>\n",
       "    </tr>\n",
       "    <tr>\n",
       "      <th>1</th>\n",
       "      <td>00055176fea33f6e027cd3302289378b</td>\n",
       "      <td>1</td>\n",
       "      <td>395484</td>\n",
       "    </tr>\n",
       "    <tr>\n",
       "      <th>2</th>\n",
       "      <td>00055176fea33f6e027cd3302289378b</td>\n",
       "      <td>1</td>\n",
       "      <td>493055</td>\n",
       "    </tr>\n",
       "    <tr>\n",
       "      <th>3</th>\n",
       "      <td>00055176fea33f6e027cd3302289378b</td>\n",
       "      <td>1</td>\n",
       "      <td>181593</td>\n",
       "    </tr>\n",
       "    <tr>\n",
       "      <th>4</th>\n",
       "      <td>00055176fea33f6e027cd3302289378b</td>\n",
       "      <td>1</td>\n",
       "      <td>3951</td>\n",
       "    </tr>\n",
       "    <tr>\n",
       "      <th>...</th>\n",
       "      <td>...</td>\n",
       "      <td>...</td>\n",
       "      <td>...</td>\n",
       "    </tr>\n",
       "    <tr>\n",
       "      <th>1267218</th>\n",
       "      <td>fff77dadf8528083c920b9c018847e8b</td>\n",
       "      <td>1</td>\n",
       "      <td>78132</td>\n",
       "    </tr>\n",
       "    <tr>\n",
       "      <th>1267219</th>\n",
       "      <td>fff77dadf8528083c920b9c018847e8b</td>\n",
       "      <td>1</td>\n",
       "      <td>170568</td>\n",
       "    </tr>\n",
       "    <tr>\n",
       "      <th>1267220</th>\n",
       "      <td>fff77dadf8528083c920b9c018847e8b</td>\n",
       "      <td>1</td>\n",
       "      <td>58448</td>\n",
       "    </tr>\n",
       "    <tr>\n",
       "      <th>1267221</th>\n",
       "      <td>fff77dadf8528083c920b9c018847e8b</td>\n",
       "      <td>1</td>\n",
       "      <td>9767</td>\n",
       "    </tr>\n",
       "    <tr>\n",
       "      <th>1267222</th>\n",
       "      <td>fff77dadf8528083c920b9c018847e8b</td>\n",
       "      <td>1</td>\n",
       "      <td>34786</td>\n",
       "    </tr>\n",
       "  </tbody>\n",
       "</table>\n",
       "<p>1267223 rows × 3 columns</p>\n",
       "</div>"
      ],
      "text/plain": [
       "                                  user_id  freq  artist_track_id\n",
       "0        00055176fea33f6e027cd3302289378b     1           133644\n",
       "1        00055176fea33f6e027cd3302289378b     1           395484\n",
       "2        00055176fea33f6e027cd3302289378b     1           493055\n",
       "3        00055176fea33f6e027cd3302289378b     1           181593\n",
       "4        00055176fea33f6e027cd3302289378b     1             3951\n",
       "...                                   ...   ...              ...\n",
       "1267218  fff77dadf8528083c920b9c018847e8b     1            78132\n",
       "1267219  fff77dadf8528083c920b9c018847e8b     1           170568\n",
       "1267220  fff77dadf8528083c920b9c018847e8b     1            58448\n",
       "1267221  fff77dadf8528083c920b9c018847e8b     1             9767\n",
       "1267222  fff77dadf8528083c920b9c018847e8b     1            34786\n",
       "\n",
       "[1267223 rows x 3 columns]"
      ]
     },
     "execution_count": 13,
     "metadata": {},
     "output_type": "execute_result"
    }
   ],
   "source": [
    "artist_track_df[\"artist_track\"] = df_freq[\"artist_track\"].unique()\n",
    "df_freq.drop('artist_track', axis=1, inplace=True)\n",
    "df_freq"
   ]
  },
  {
   "cell_type": "code",
   "execution_count": 14,
   "id": "d0a164e2-7863-4b72-aefa-b75817170662",
   "metadata": {},
   "outputs": [],
   "source": [
    "from sklearn.preprocessing import MinMaxScaler\n",
    "scaler = MinMaxScaler(feature_range=(1,5))"
   ]
  },
  {
   "cell_type": "code",
   "execution_count": 16,
   "id": "8f6cb00b-38e4-4976-b9d1-ada7ecd75b02",
   "metadata": {},
   "outputs": [
    {
     "data": {
      "text/html": [
       "<div>\n",
       "<style scoped>\n",
       "    .dataframe tbody tr th:only-of-type {\n",
       "        vertical-align: middle;\n",
       "    }\n",
       "\n",
       "    .dataframe tbody tr th {\n",
       "        vertical-align: top;\n",
       "    }\n",
       "\n",
       "    .dataframe thead th {\n",
       "        text-align: right;\n",
       "    }\n",
       "</style>\n",
       "<table border=\"1\" class=\"dataframe\">\n",
       "  <thead>\n",
       "    <tr style=\"text-align: right;\">\n",
       "      <th></th>\n",
       "      <th>user_id</th>\n",
       "      <th>freq</th>\n",
       "      <th>artist_track_id</th>\n",
       "    </tr>\n",
       "  </thead>\n",
       "  <tbody>\n",
       "    <tr>\n",
       "      <th>0</th>\n",
       "      <td>00055176fea33f6e027cd3302289378b</td>\n",
       "      <td>1.0</td>\n",
       "      <td>133644</td>\n",
       "    </tr>\n",
       "    <tr>\n",
       "      <th>1</th>\n",
       "      <td>00055176fea33f6e027cd3302289378b</td>\n",
       "      <td>1.0</td>\n",
       "      <td>395484</td>\n",
       "    </tr>\n",
       "    <tr>\n",
       "      <th>2</th>\n",
       "      <td>00055176fea33f6e027cd3302289378b</td>\n",
       "      <td>1.0</td>\n",
       "      <td>493055</td>\n",
       "    </tr>\n",
       "    <tr>\n",
       "      <th>3</th>\n",
       "      <td>00055176fea33f6e027cd3302289378b</td>\n",
       "      <td>1.0</td>\n",
       "      <td>181593</td>\n",
       "    </tr>\n",
       "    <tr>\n",
       "      <th>4</th>\n",
       "      <td>00055176fea33f6e027cd3302289378b</td>\n",
       "      <td>1.0</td>\n",
       "      <td>3951</td>\n",
       "    </tr>\n",
       "  </tbody>\n",
       "</table>\n",
       "</div>"
      ],
      "text/plain": [
       "                            user_id  freq  artist_track_id\n",
       "0  00055176fea33f6e027cd3302289378b   1.0           133644\n",
       "1  00055176fea33f6e027cd3302289378b   1.0           395484\n",
       "2  00055176fea33f6e027cd3302289378b   1.0           493055\n",
       "3  00055176fea33f6e027cd3302289378b   1.0           181593\n",
       "4  00055176fea33f6e027cd3302289378b   1.0             3951"
      ]
     },
     "execution_count": 16,
     "metadata": {},
     "output_type": "execute_result"
    }
   ],
   "source": [
    "df_freq[[\"freq\"]] = scaler.fit_transform(df_freq[[\"freq\"]])\n",
    "df_freq.head()"
   ]
  },
  {
   "cell_type": "code",
   "execution_count": 42,
   "metadata": {},
   "outputs": [
    {
     "data": {
      "text/plain": [
       "array([1.        , 2.33333333, 3.66666667, 5.        ])"
      ]
     },
     "execution_count": 42,
     "metadata": {},
     "output_type": "execute_result"
    }
   ],
   "source": [
    "df_freq.freq.unique()"
   ]
  },
  {
   "cell_type": "code",
   "execution_count": 17,
   "id": "18af9fc9-ca93-4270-81ef-5a2f43382d3e",
   "metadata": {},
   "outputs": [],
   "source": [
    "reader = Reader(rating_scale=(1, 5))"
   ]
  },
  {
   "cell_type": "code",
   "execution_count": 18,
   "id": "b54cc285-905b-42ac-9f4f-3d53712da0d7",
   "metadata": {},
   "outputs": [],
   "source": [
    "data = Dataset.load_from_df(df_freq[['user_id', 'artist_track_id', 'freq']], reader)"
   ]
  },
  {
   "cell_type": "code",
   "execution_count": 19,
   "id": "5a876f78-c030-436e-9f1c-bc612f2baecf",
   "metadata": {},
   "outputs": [],
   "source": [
    "from surprise.model_selection import cross_validate\n",
    "from surprise import NormalPredictor"
   ]
  },
  {
   "cell_type": "code",
   "execution_count": 77,
   "id": "02b5daa5-1f8e-46b3-ab8f-c07c5a1ecaf6",
   "metadata": {},
   "outputs": [
    {
     "name": "stdout",
     "output_type": "stream",
     "text": [
      "RMSE: 0.1041\n",
      "RMSE: 0.1057\n",
      "RMSE: 0.1058\n",
      "RMSE: 0.1051\n",
      "RMSE: 0.1049\n"
     ]
    }
   ],
   "source": [
    "from surprise import SVD\n",
    "from surprise.model_selection import KFold\n",
    "from surprise import accuracy\n",
    "# define a cross-validation iterator\n",
    "kf = KFold(n_splits=5)\n",
    "algo = SVD()\n",
    "for trainset, testset in kf.split(data):\n",
    "    # train and test algorithm.\n",
    "    algo.fit(trainset)\n",
    "    predictions = algo.test(testset)\n",
    "    # Compute and print Root Mean Squared Error\n",
    "    accuracy.rmse(predictions, verbose=True)"
   ]
  },
  {
   "cell_type": "markdown",
   "metadata": {},
   "source": [
    "# Let's try to get predictions from SVD"
   ]
  },
  {
   "cell_type": "code",
   "execution_count": 20,
   "id": "0a8b44dc-47c5-4941-96ef-d109d0a17517",
   "metadata": {},
   "outputs": [],
   "source": [
    "from surprise import SVD\n",
    "from surprise.model_selection import cross_validate\n",
    "\n"
   ]
  },
  {
   "cell_type": "code",
   "execution_count": 22,
   "metadata": {},
   "outputs": [],
   "source": [
    "svd = SVD(verbose=True, n_epochs=50)"
   ]
  },
  {
   "cell_type": "code",
   "execution_count": 23,
   "metadata": {},
   "outputs": [
    {
     "name": "stdout",
     "output_type": "stream",
     "text": [
      "Processing epoch 0\n",
      "Processing epoch 1\n",
      "Processing epoch 2\n",
      "Processing epoch 3\n",
      "Processing epoch 4\n",
      "Processing epoch 5\n",
      "Processing epoch 6\n",
      "Processing epoch 7\n",
      "Processing epoch 8\n",
      "Processing epoch 9\n",
      "Processing epoch 10\n",
      "Processing epoch 11\n",
      "Processing epoch 12\n",
      "Processing epoch 13\n",
      "Processing epoch 14\n",
      "Processing epoch 15\n",
      "Processing epoch 16\n",
      "Processing epoch 17\n",
      "Processing epoch 18\n",
      "Processing epoch 19\n",
      "Processing epoch 20\n",
      "Processing epoch 21\n",
      "Processing epoch 22\n",
      "Processing epoch 23\n",
      "Processing epoch 24\n",
      "Processing epoch 25\n",
      "Processing epoch 26\n",
      "Processing epoch 27\n",
      "Processing epoch 28\n",
      "Processing epoch 29\n",
      "Processing epoch 30\n",
      "Processing epoch 31\n",
      "Processing epoch 32\n",
      "Processing epoch 33\n",
      "Processing epoch 34\n",
      "Processing epoch 35\n",
      "Processing epoch 36\n",
      "Processing epoch 37\n",
      "Processing epoch 38\n",
      "Processing epoch 39\n",
      "Processing epoch 40\n",
      "Processing epoch 41\n",
      "Processing epoch 42\n",
      "Processing epoch 43\n",
      "Processing epoch 44\n",
      "Processing epoch 45\n",
      "Processing epoch 46\n",
      "Processing epoch 47\n",
      "Processing epoch 48\n",
      "Processing epoch 49\n",
      "Processing epoch 0\n",
      "Processing epoch 1\n",
      "Processing epoch 2\n",
      "Processing epoch 3\n",
      "Processing epoch 4\n",
      "Processing epoch 5\n",
      "Processing epoch 6\n",
      "Processing epoch 7\n",
      "Processing epoch 8\n",
      "Processing epoch 9\n",
      "Processing epoch 10\n",
      "Processing epoch 11\n",
      "Processing epoch 12\n",
      "Processing epoch 13\n",
      "Processing epoch 14\n",
      "Processing epoch 15\n",
      "Processing epoch 16\n",
      "Processing epoch 17\n",
      "Processing epoch 18\n",
      "Processing epoch 19\n",
      "Processing epoch 20\n",
      "Processing epoch 21\n",
      "Processing epoch 22\n",
      "Processing epoch 23\n",
      "Processing epoch 24\n",
      "Processing epoch 25\n",
      "Processing epoch 26\n",
      "Processing epoch 27\n",
      "Processing epoch 28\n",
      "Processing epoch 29\n",
      "Processing epoch 30\n",
      "Processing epoch 31\n",
      "Processing epoch 32\n",
      "Processing epoch 33\n",
      "Processing epoch 34\n",
      "Processing epoch 35\n",
      "Processing epoch 36\n",
      "Processing epoch 37\n",
      "Processing epoch 38\n",
      "Processing epoch 39\n",
      "Processing epoch 40\n",
      "Processing epoch 41\n",
      "Processing epoch 42\n",
      "Processing epoch 43\n",
      "Processing epoch 44\n",
      "Processing epoch 45\n",
      "Processing epoch 46\n",
      "Processing epoch 47\n",
      "Processing epoch 48\n",
      "Processing epoch 49\n",
      "Processing epoch 0\n",
      "Processing epoch 1\n",
      "Processing epoch 2\n",
      "Processing epoch 3\n",
      "Processing epoch 4\n",
      "Processing epoch 5\n",
      "Processing epoch 6\n",
      "Processing epoch 7\n",
      "Processing epoch 8\n",
      "Processing epoch 9\n",
      "Processing epoch 10\n",
      "Processing epoch 11\n",
      "Processing epoch 12\n",
      "Processing epoch 13\n",
      "Processing epoch 14\n",
      "Processing epoch 15\n",
      "Processing epoch 16\n",
      "Processing epoch 17\n",
      "Processing epoch 18\n",
      "Processing epoch 19\n",
      "Processing epoch 20\n",
      "Processing epoch 21\n",
      "Processing epoch 22\n",
      "Processing epoch 23\n",
      "Processing epoch 24\n",
      "Processing epoch 25\n",
      "Processing epoch 26\n",
      "Processing epoch 27\n",
      "Processing epoch 28\n",
      "Processing epoch 29\n",
      "Processing epoch 30\n",
      "Processing epoch 31\n",
      "Processing epoch 32\n",
      "Processing epoch 33\n",
      "Processing epoch 34\n",
      "Processing epoch 35\n",
      "Processing epoch 36\n",
      "Processing epoch 37\n",
      "Processing epoch 38\n",
      "Processing epoch 39\n",
      "Processing epoch 40\n",
      "Processing epoch 41\n",
      "Processing epoch 42\n",
      "Processing epoch 43\n",
      "Processing epoch 44\n",
      "Processing epoch 45\n",
      "Processing epoch 46\n",
      "Processing epoch 47\n",
      "Processing epoch 48\n",
      "Processing epoch 49\n",
      "Processing epoch 0\n",
      "Processing epoch 1\n",
      "Processing epoch 2\n",
      "Processing epoch 3\n",
      "Processing epoch 4\n",
      "Processing epoch 5\n",
      "Processing epoch 6\n",
      "Processing epoch 7\n",
      "Processing epoch 8\n",
      "Processing epoch 9\n",
      "Processing epoch 10\n",
      "Processing epoch 11\n",
      "Processing epoch 12\n",
      "Processing epoch 13\n",
      "Processing epoch 14\n",
      "Processing epoch 15\n",
      "Processing epoch 16\n",
      "Processing epoch 17\n",
      "Processing epoch 18\n",
      "Processing epoch 19\n",
      "Processing epoch 20\n",
      "Processing epoch 21\n",
      "Processing epoch 22\n",
      "Processing epoch 23\n",
      "Processing epoch 24\n",
      "Processing epoch 25\n",
      "Processing epoch 26\n",
      "Processing epoch 27\n",
      "Processing epoch 28\n",
      "Processing epoch 29\n",
      "Processing epoch 30\n",
      "Processing epoch 31\n",
      "Processing epoch 32\n",
      "Processing epoch 33\n",
      "Processing epoch 34\n",
      "Processing epoch 35\n",
      "Processing epoch 36\n",
      "Processing epoch 37\n",
      "Processing epoch 38\n",
      "Processing epoch 39\n",
      "Processing epoch 40\n",
      "Processing epoch 41\n",
      "Processing epoch 42\n",
      "Processing epoch 43\n",
      "Processing epoch 44\n",
      "Processing epoch 45\n",
      "Processing epoch 46\n",
      "Processing epoch 47\n",
      "Processing epoch 48\n",
      "Processing epoch 49\n",
      "Processing epoch 0\n",
      "Processing epoch 1\n",
      "Processing epoch 2\n",
      "Processing epoch 3\n",
      "Processing epoch 4\n",
      "Processing epoch 5\n",
      "Processing epoch 6\n",
      "Processing epoch 7\n",
      "Processing epoch 8\n",
      "Processing epoch 9\n",
      "Processing epoch 10\n",
      "Processing epoch 11\n",
      "Processing epoch 12\n",
      "Processing epoch 13\n",
      "Processing epoch 14\n",
      "Processing epoch 15\n",
      "Processing epoch 16\n",
      "Processing epoch 17\n",
      "Processing epoch 18\n",
      "Processing epoch 19\n",
      "Processing epoch 20\n",
      "Processing epoch 21\n",
      "Processing epoch 22\n",
      "Processing epoch 23\n",
      "Processing epoch 24\n",
      "Processing epoch 25\n",
      "Processing epoch 26\n",
      "Processing epoch 27\n",
      "Processing epoch 28\n",
      "Processing epoch 29\n",
      "Processing epoch 30\n",
      "Processing epoch 31\n",
      "Processing epoch 32\n",
      "Processing epoch 33\n",
      "Processing epoch 34\n",
      "Processing epoch 35\n",
      "Processing epoch 36\n",
      "Processing epoch 37\n",
      "Processing epoch 38\n",
      "Processing epoch 39\n",
      "Processing epoch 40\n",
      "Processing epoch 41\n",
      "Processing epoch 42\n",
      "Processing epoch 43\n",
      "Processing epoch 44\n",
      "Processing epoch 45\n",
      "Processing epoch 46\n",
      "Processing epoch 47\n",
      "Processing epoch 48\n",
      "Processing epoch 49\n",
      "Evaluating RMSE of algorithm SVD on 5 split(s).\n",
      "\n",
      "                  Fold 1  Fold 2  Fold 3  Fold 4  Fold 5  Mean    Std     \n",
      "RMSE (testset)    0.1707  0.1689  0.1715  0.1672  0.1666  0.1690  0.0019  \n",
      "Fit time          189.07  188.04  187.76  188.51  190.53  188.78  0.98    \n",
      "Test time         3.06    3.05    2.61    3.16    3.04    2.98    0.19    \n"
     ]
    },
    {
     "data": {
      "text/plain": [
       "{'test_rmse': array([0.17067736, 0.16894306, 0.17152288, 0.16716054, 0.16664314]),\n",
       " 'fit_time': (189.06539011001587,\n",
       "  188.03691697120667,\n",
       "  187.76325869560242,\n",
       "  188.50650811195374,\n",
       "  190.52603697776794),\n",
       " 'test_time': (3.061945915222168,\n",
       "  3.0488712787628174,\n",
       "  2.605293035507202,\n",
       "  3.158702850341797,\n",
       "  3.0367510318756104)}"
      ]
     },
     "execution_count": 23,
     "metadata": {},
     "output_type": "execute_result"
    }
   ],
   "source": [
    "cross_validate(svd, data, measures=['RMSE'], cv=5, verbose=True)"
   ]
  },
  {
   "cell_type": "code",
   "execution_count": 25,
   "metadata": {},
   "outputs": [
    {
     "name": "stdout",
     "output_type": "stream",
     "text": [
      "Processing epoch 0\n",
      "Processing epoch 1\n",
      "Processing epoch 2\n",
      "Processing epoch 3\n",
      "Processing epoch 4\n",
      "Processing epoch 5\n",
      "Processing epoch 6\n",
      "Processing epoch 7\n",
      "Processing epoch 8\n",
      "Processing epoch 9\n",
      "Processing epoch 10\n",
      "Processing epoch 11\n",
      "Processing epoch 12\n",
      "Processing epoch 13\n",
      "Processing epoch 14\n",
      "Processing epoch 15\n",
      "Processing epoch 16\n",
      "Processing epoch 17\n",
      "Processing epoch 18\n",
      "Processing epoch 19\n",
      "Processing epoch 20\n",
      "Processing epoch 21\n",
      "Processing epoch 22\n",
      "Processing epoch 23\n",
      "Processing epoch 24\n",
      "Processing epoch 25\n",
      "Processing epoch 26\n",
      "Processing epoch 27\n",
      "Processing epoch 28\n",
      "Processing epoch 29\n",
      "Processing epoch 30\n",
      "Processing epoch 31\n",
      "Processing epoch 32\n",
      "Processing epoch 33\n",
      "Processing epoch 34\n",
      "Processing epoch 35\n",
      "Processing epoch 36\n",
      "Processing epoch 37\n",
      "Processing epoch 38\n",
      "Processing epoch 39\n",
      "Processing epoch 40\n",
      "Processing epoch 41\n",
      "Processing epoch 42\n",
      "Processing epoch 43\n",
      "Processing epoch 44\n",
      "Processing epoch 45\n",
      "Processing epoch 46\n",
      "Processing epoch 47\n",
      "Processing epoch 48\n",
      "Processing epoch 49\n"
     ]
    },
    {
     "data": {
      "text/plain": [
       "<surprise.prediction_algorithms.matrix_factorization.SVD at 0x7fe8d44259d0>"
      ]
     },
     "execution_count": 25,
     "metadata": {},
     "output_type": "execute_result"
    }
   ],
   "source": [
    "trainset = data.build_full_trainset()\n",
    "svd.fit(trainset)"
   ]
  },
  {
   "cell_type": "code",
   "execution_count": 31,
   "metadata": {},
   "outputs": [],
   "source": [
    "preds = list()"
   ]
  },
  {
   "cell_type": "code",
   "execution_count": 40,
   "metadata": {},
   "outputs": [],
   "source": [
    "for id in df_freq.artist_track_id.values:\n",
    "    preds.append(svd.predict(uid=\"00055176fea33f6e027cd3306789378b\", iid=id))\n",
    "    "
   ]
  },
  {
   "cell_type": "code",
   "execution_count": 33,
   "metadata": {},
   "outputs": [
    {
     "data": {
      "text/plain": [
       "Prediction(uid='100', iid='133644', r_ui=None, est=1.0194304133263572, details={'was_impossible': False})"
      ]
     },
     "execution_count": 33,
     "metadata": {},
     "output_type": "execute_result"
    }
   ],
   "source": [
    "svd.predict(uid='100', iid='133644')"
   ]
  },
  {
   "cell_type": "code",
   "execution_count": 41,
   "metadata": {},
   "outputs": [
    {
     "data": {
      "text/plain": [
       "1.974350089349588"
      ]
     },
     "execution_count": 41,
     "metadata": {},
     "output_type": "execute_result"
    }
   ],
   "source": [
    "max([pred.est for pred in preds])"
   ]
  },
  {
   "cell_type": "code",
   "execution_count": null,
   "metadata": {},
   "outputs": [],
   "source": []
  }
 ],
 "metadata": {
  "kernelspec": {
   "display_name": "Python 3",
   "language": "python",
   "name": "python3"
  },
  "language_info": {
   "codemirror_mode": {
    "name": "ipython",
    "version": 3
   },
   "file_extension": ".py",
   "mimetype": "text/x-python",
   "name": "python",
   "nbconvert_exporter": "python",
   "pygments_lexer": "ipython3",
   "version": "3.8.9"
  }
 },
 "nbformat": 4,
 "nbformat_minor": 5
}
