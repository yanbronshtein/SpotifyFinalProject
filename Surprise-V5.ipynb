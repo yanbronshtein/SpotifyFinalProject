{
 "cells": [
  {
   "cell_type": "code",
   "execution_count": 65,
   "id": "a5f24d3d",
   "metadata": {},
   "outputs": [
    {
     "name": "stdout",
     "output_type": "stream",
     "text": [
      "Collecting scikit-learn\n",
      "  Downloading scikit_learn-1.0.1-cp38-cp38-macosx_10_13_x86_64.whl (7.9 MB)\n",
      "\u001b[K     |████████████████████████████████| 7.9 MB 4.4 MB/s eta 0:00:01\n",
      "\u001b[?25hRequirement already satisfied: numpy>=1.14.6 in /Users/yanivbronshtein/opt/anaconda3/envs/music_env/lib/python3.8/site-packages (from scikit-learn) (1.21.4)\n",
      "Collecting threadpoolctl>=2.0.0\n",
      "  Downloading threadpoolctl-3.0.0-py3-none-any.whl (14 kB)\n",
      "Requirement already satisfied: joblib>=0.11 in /Users/yanivbronshtein/opt/anaconda3/envs/music_env/lib/python3.8/site-packages (from scikit-learn) (1.1.0)\n",
      "Requirement already satisfied: scipy>=1.1.0 in /Users/yanivbronshtein/opt/anaconda3/envs/music_env/lib/python3.8/site-packages (from scikit-learn) (1.7.3)\n",
      "Installing collected packages: threadpoolctl, scikit-learn\n",
      "Successfully installed scikit-learn-1.0.1 threadpoolctl-3.0.0\n",
      "Note: you may need to restart the kernel to use updated packages.\n"
     ]
    }
   ],
   "source": [
    "pip install scikit-learn"
   ]
  },
  {
   "cell_type": "code",
   "execution_count": 89,
   "id": "07248fa6",
   "metadata": {},
   "outputs": [],
   "source": [
    "from surprise import Dataset\n",
    "from surprise import Reader\n",
    "import pandas as pd\n",
    "import numpy as np\n",
    "import random\n",
    "import nltk\n",
    "import re\n",
    "from unidecode import unidecode\n",
    "from surprise.model_selection import KFold\n",
    "from surprise import SVD\n"
   ]
  },
  {
   "cell_type": "code",
   "execution_count": null,
   "id": "49f4c45a",
   "metadata": {},
   "outputs": [],
   "source": [
    "pd.options.display.max_rows = 5000"
   ]
  },
  {
   "cell_type": "markdown",
   "id": "33e584e2",
   "metadata": {},
   "source": [
    "# Spark initialization"
   ]
  },
  {
   "cell_type": "code",
   "execution_count": 3,
   "id": "742706eb",
   "metadata": {},
   "outputs": [
    {
     "name": "stderr",
     "output_type": "stream",
     "text": [
      "Using Spark's default log4j profile: org/apache/spark/log4j-defaults.properties\n",
      "Setting default log level to \"WARN\".\n",
      "To adjust logging level use sc.setLogLevel(newLevel). For SparkR, use setLogLevel(newLevel).\n",
      "21/12/20 00:01:10 WARN NativeCodeLoader: Unable to load native-hadoop library for your platform... using builtin-java classes where applicable\n",
      "21/12/20 00:01:11 WARN Utils: Service 'SparkUI' could not bind on port 4040. Attempting port 4041.\n"
     ]
    },
    {
     "data": {
      "text/plain": [
       "True"
      ]
     },
     "execution_count": 3,
     "metadata": {},
     "output_type": "execute_result"
    }
   ],
   "source": [
    "from pyspark.sql import SparkSession\n",
    "from pyspark.sql.functions import count, avg\n",
    "\n",
    "from pyspark.serializers import MarshalSerializer\n",
    "from pyspark.context import SparkContext\n",
    "sc = SparkContext(\"local\", \"serialization app\", serializer = MarshalSerializer())\n",
    "spark = SparkSession(sc)\n",
    "spark.sparkContext is sc"
   ]
  },
  {
   "cell_type": "markdown",
   "id": "fa03c4f1",
   "metadata": {},
   "source": [
    "# Initial Data Processing using Pandas"
   ]
  },
  {
   "cell_type": "code",
   "execution_count": 4,
   "id": "81b95f46",
   "metadata": {},
   "outputs": [],
   "source": [
    "p = 1\n",
    "df = pd.read_csv('./data/spotify_dataset.csv', on_bad_lines='skip')\n",
    "df.dropna(inplace=True)"
   ]
  },
  {
   "cell_type": "code",
   "execution_count": 5,
   "id": "7e7ad0d0",
   "metadata": {},
   "outputs": [],
   "source": [
    "df.columns = df.columns.str.replace('\"', '')\n",
    "df.columns = df.columns.str.replace('name', '')\n",
    "df.columns = df.columns.str.replace(' ', '')"
   ]
  },
  {
   "cell_type": "code",
   "execution_count": 6,
   "id": "534fe7e6",
   "metadata": {},
   "outputs": [],
   "source": [
    "def clean_artist(text):\n",
    "    text = (str(text)).lower()\n",
    "    FEAT_PAT = re.compile(r\"[\\s\\S]+[\\s]+(feat\\.|ft\\.|featuring|ft|feat)[\\s]+[\\s\\S]+\")\n",
    "    AMP_PAT = re.compile(r\"[\\s\\S]*(&|and|\\+)[\\s\\S]*\")\n",
    "    #check if we have featured artist\n",
    "    if FEAT_PAT.match(text):\n",
    "        text = re.split(r\"(feat\\.|ft\\.|featuring|ft|feat)\", text)[0]\n",
    "    \n",
    "    #Remove & from all artists\n",
    "    if AMP_PAT.match(text):\n",
    "        text = re.split(r\"&\", text)[0]\n",
    "    tok = nltk.RegexpTokenizer(r\"\\w+\")\n",
    "    word = \" \".join(tok.tokenize(text))\n",
    "    text = unidecode(word)\n",
    "    w=\"\".join(text.split(\" \"))\n",
    "    text=w\n",
    "    return text.strip()"
   ]
  },
  {
   "cell_type": "code",
   "execution_count": 7,
   "id": "48ed0f7c",
   "metadata": {},
   "outputs": [],
   "source": [
    "df['clean_artist'] = df['artist'].apply(clean_artist)"
   ]
  },
  {
   "cell_type": "markdown",
   "id": "8eb63e26",
   "metadata": {},
   "source": [
    "**Save preprocessed dataframe to be processed in spark**"
   ]
  },
  {
   "cell_type": "code",
   "execution_count": 8,
   "id": "f968cc22",
   "metadata": {},
   "outputs": [],
   "source": [
    "df.to_csv('./data/cleaned_df.csv', index=False)"
   ]
  },
  {
   "cell_type": "code",
   "execution_count": 9,
   "id": "3293c4b8",
   "metadata": {},
   "outputs": [],
   "source": [
    "clean_df = pd.read_csv('./data/cleaned_df.csv')"
   ]
  },
  {
   "cell_type": "code",
   "execution_count": 10,
   "id": "f2fdb711",
   "metadata": {},
   "outputs": [],
   "source": [
    "artist= pd.unique(clean_df['clean_artist'].values.ravel())\n",
    "artist = pd.Series(np.arange(len(artist)), artist)\n",
    "clean_df[\"artist_id\"] = clean_df[['clean_artist']].applymap(artist.get)\n",
    "clean_df = clean_df[['user_id','artist_id', 'clean_artist']]"
   ]
  },
  {
   "cell_type": "code",
   "execution_count": 11,
   "id": "40804287",
   "metadata": {},
   "outputs": [],
   "source": [
    "clean_df = clean_df.astype(str)"
   ]
  },
  {
   "cell_type": "code",
   "execution_count": 12,
   "id": "96a60ec3",
   "metadata": {},
   "outputs": [],
   "source": [
    "clean_df.to_csv('./data/hugo_df.csv', index=False) #Save cleaned dataframe to hugo_df.csv"
   ]
  },
  {
   "cell_type": "markdown",
   "id": "54b50c32",
   "metadata": {},
   "source": [
    "# Working with Spark"
   ]
  },
  {
   "cell_type": "code",
   "execution_count": 13,
   "id": "b9bec22e",
   "metadata": {},
   "outputs": [],
   "source": [
    "spark_df = spark.read.csv(\"./data/cleaned_df.csv\", header=True) #Read df processed in pandas as spark_df"
   ]
  },
  {
   "cell_type": "code",
   "execution_count": 14,
   "id": "08efb729",
   "metadata": {},
   "outputs": [],
   "source": [
    "spark_df_agg = spark_df.groupBy('user_id', 'clean_artist').agg(count('*')) #Get frequencies"
   ]
  },
  {
   "cell_type": "code",
   "execution_count": 15,
   "id": "35be58d0",
   "metadata": {},
   "outputs": [],
   "source": [
    "spark_df_agg=spark_df_agg.withColumnRenamed(\"count(1)\",\"freq\") #Rename aggregate column to freq"
   ]
  },
  {
   "cell_type": "code",
   "execution_count": 16,
   "id": "1127ce5e",
   "metadata": {},
   "outputs": [],
   "source": [
    "spark_clean_df = spark.read.csv('./data/hugo_df.csv', header=True) #Contains user_id, artist_id, clean_artist"
   ]
  },
  {
   "cell_type": "code",
   "execution_count": 17,
   "id": "734aaac1",
   "metadata": {},
   "outputs": [
    {
     "name": "stdout",
     "output_type": "stream",
     "text": [
      "+--------------------+---------+-------------+\n",
      "|             user_id|artist_id| clean_artist|\n",
      "+--------------------+---------+-------------+\n",
      "|9cc0cfd4d7d788510...|        0|elviscostello|\n",
      "|9cc0cfd4d7d788510...|        0|elviscostello|\n",
      "+--------------------+---------+-------------+\n",
      "only showing top 2 rows\n",
      "\n"
     ]
    }
   ],
   "source": [
    "spark_clean_df.show(2)"
   ]
  },
  {
   "cell_type": "markdown",
   "id": "4667adde",
   "metadata": {},
   "source": [
    "# Perform inner Join to get user_id, artist_id, clean_artist, and frequencies"
   ]
  },
  {
   "cell_type": "code",
   "execution_count": 18,
   "id": "e92324ca",
   "metadata": {},
   "outputs": [],
   "source": [
    "combined_df = spark_df_agg.join(spark_clean_df, \n",
    "                                (spark_df_agg.clean_artist==spark_clean_df.clean_artist) & \\\n",
    "                                 (spark_df_agg.user_id==spark_clean_df.user_id),\n",
    "                                'inner').select(spark_df_agg.user_id, spark_df_agg.clean_artist, spark_df_agg.freq, spark_clean_df.artist_id)"
   ]
  },
  {
   "cell_type": "code",
   "execution_count": 19,
   "id": "3abc143d",
   "metadata": {},
   "outputs": [
    {
     "name": "stderr",
     "output_type": "stream",
     "text": [
      "                                                                                \r"
     ]
    },
    {
     "data": {
      "text/plain": [
       "12855173"
      ]
     },
     "execution_count": 19,
     "metadata": {},
     "output_type": "execute_result"
    }
   ],
   "source": [
    "combined_df.count()"
   ]
  },
  {
   "cell_type": "code",
   "execution_count": null,
   "id": "44750029",
   "metadata": {},
   "outputs": [],
   "source": [
    "combined_df.show(2)"
   ]
  },
  {
   "cell_type": "markdown",
   "id": "58924a0c",
   "metadata": {},
   "source": [
    "# 1).given user_id, return all of its songs"
   ]
  },
  {
   "cell_type": "code",
   "execution_count": 53,
   "id": "3868d56b",
   "metadata": {},
   "outputs": [],
   "source": [
    "def get_all_artists(user_id):\n",
    "#     res = list(combined_df.filter(combined_df['user_id'] == user_id).select('clean_artist').toPandas()['clean_artist'])\n",
    "#     mvv_list = list(\n",
    "#         tableA.select('clean_artist').toPandas()['clean_artist']\n",
    "#     )\n",
    "    \n",
    "    combined_df.createOrReplaceTempView(\"hugo_table\") #Create view to run sql\n",
    "    res = spark.sql(f\"SELECT clean_artist from hugo_table where user_id='{user_id}';\").collect()\n",
    "     \n",
    "    return res"
   ]
  },
  {
   "cell_type": "code",
   "execution_count": 31,
   "id": "eeb6e35a",
   "metadata": {},
   "outputs": [
    {
     "name": "stderr",
     "output_type": "stream",
     "text": [
      "                                                                                \r"
     ]
    }
   ],
   "source": [
    "# res_list = [i.clean_artist for i in get_all_songs('00055176fea33f6e027cd3302289378b')]\n",
    "res_list = get_all_artists('00055176fea33f6e027cd3302289378b')\n",
    "\n"
   ]
  },
  {
   "cell_type": "code",
   "execution_count": 49,
   "id": "59baa845",
   "metadata": {},
   "outputs": [],
   "source": [
    "my_artists = [list(i.asDict().values()) for i in res_list]"
   ]
  },
  {
   "cell_type": "code",
   "execution_count": 51,
   "id": "2b90daa1",
   "metadata": {},
   "outputs": [],
   "source": [
    "my_artists = [item for sublist in my_artists for item in sublist]"
   ]
  },
  {
   "cell_type": "code",
   "execution_count": 52,
   "id": "42428e23",
   "metadata": {},
   "outputs": [
    {
     "data": {
      "text/plain": [
       "['auryn',\n",
       " 'bmike',\n",
       " 'thecatempire',\n",
       " 'thevamps',\n",
       " 'ollymurs',\n",
       " 'littlemix',\n",
       " 'austinmahone',\n",
       " 'blink182',\n",
       " 'beamiller',\n",
       " 'simpleplan',\n",
       " 'christinaperri',\n",
       " 'onerepublic',\n",
       " '5secondsofsummer',\n",
       " 'jakemiller',\n",
       " 'meghantrainor',\n",
       " 'jannikbrunke',\n",
       " 'thefray',\n",
       " 'beckyg',\n",
       " 'cimorelli',\n",
       " 'abigailbreslin',\n",
       " 'meghantonjes',\n",
       " 'markronson',\n",
       " 'alltimelow',\n",
       " 'againstthecurrent',\n",
       " 'highschoolmusicalcast',\n",
       " 'greenday',\n",
       " 'onedirection',\n",
       " 'avrillavigne',\n",
       " 'falloutboy',\n",
       " 'jack',\n",
       " 'taylorswift',\n",
       " 'gerardway',\n",
       " 'shawnmendes',\n",
       " 'jamesarthur',\n",
       " 'thewanted',\n",
       " 'nickjonas',\n",
       " 'panicatthedisco',\n",
       " 'maroon5',\n",
       " 'brunomars',\n",
       " 'the1975',\n",
       " 'edsheeran',\n",
       " 'imaginedragons',\n",
       " 'natalieimbruglia',\n",
       " 'charlixcx',\n",
       " 'demilovato']"
      ]
     },
     "execution_count": 52,
     "metadata": {},
     "output_type": "execute_result"
    }
   ],
   "source": [
    "my_artists"
   ]
  },
  {
   "cell_type": "markdown",
   "id": "5f16df17",
   "metadata": {},
   "source": [
    "# 2).given artist_id, return the corresponding unique artist"
   ]
  },
  {
   "cell_type": "code",
   "execution_count": 61,
   "id": "26152d63",
   "metadata": {},
   "outputs": [],
   "source": [
    "def get_unique_artist(artist_id):\n",
    "    combined_df.createOrReplaceTempView(\"hugo_table\") #Create view to run sql\n",
    "    res = spark.sql(f\"SELECT clean_artist from hugo_table where artist_id='{artist_id}';\").collect()\n",
    "    return list(res[0].asDict().values())[0]\n"
   ]
  },
  {
   "cell_type": "code",
   "execution_count": 62,
   "id": "0e982350",
   "metadata": {},
   "outputs": [
    {
     "name": "stderr",
     "output_type": "stream",
     "text": [
      "                                                                                \r"
     ]
    }
   ],
   "source": [
    "x=get_unique_artist('0')"
   ]
  },
  {
   "cell_type": "code",
   "execution_count": 63,
   "id": "0ef03b73",
   "metadata": {},
   "outputs": [
    {
     "data": {
      "text/plain": [
       "'elviscostello'"
      ]
     },
     "execution_count": 63,
     "metadata": {},
     "output_type": "execute_result"
    }
   ],
   "source": [
    "x"
   ]
  },
  {
   "cell_type": "markdown",
   "id": "6f6dfc04",
   "metadata": {},
   "source": [
    "# Get all artists for user 00055176fea33f6e027cd3302289378b"
   ]
  },
  {
   "cell_type": "code",
   "execution_count": null,
   "id": "25cad945",
   "metadata": {},
   "outputs": [],
   "source": [
    "sc.stop() #Run last"
   ]
  },
  {
   "cell_type": "markdown",
   "id": "2aa01d3c",
   "metadata": {},
   "source": [
    "# Scale "
   ]
  },
  {
   "cell_type": "code",
   "execution_count": 66,
   "id": "008fd8b1",
   "metadata": {},
   "outputs": [],
   "source": [
    "from sklearn.preprocessing import MinMaxScaler\n",
    "scaler = MinMaxScaler(feature_range=(1,5))"
   ]
  },
  {
   "cell_type": "code",
   "execution_count": 75,
   "id": "7142af52",
   "metadata": {},
   "outputs": [],
   "source": [
    "combined_pandas_df = combined_df.write.csv?"
   ]
  },
  {
   "cell_type": "code",
   "execution_count": null,
   "id": "ed78fe45",
   "metadata": {},
   "outputs": [],
   "source": [
    "combined_pandas_df = combined_df.write.csv"
   ]
  },
  {
   "cell_type": "code",
   "execution_count": 77,
   "id": "b78c56e0",
   "metadata": {},
   "outputs": [
    {
     "name": "stderr",
     "output_type": "stream",
     "text": [
      "                                                                                \r"
     ]
    }
   ],
   "source": [
    "combined_df.coalesce(1).write.csv('./data/combined_pandas_df.csv',header=True)"
   ]
  },
  {
   "cell_type": "code",
   "execution_count": 78,
   "id": "2166a6cb",
   "metadata": {},
   "outputs": [],
   "source": [
    "combined_pandas_df = pd.read_csv('./data/combined_pandas_df.csv')"
   ]
  },
  {
   "cell_type": "code",
   "execution_count": 79,
   "id": "6e7a27fd",
   "metadata": {},
   "outputs": [
    {
     "data": {
      "text/html": [
       "<div>\n",
       "<style scoped>\n",
       "    .dataframe tbody tr th:only-of-type {\n",
       "        vertical-align: middle;\n",
       "    }\n",
       "\n",
       "    .dataframe tbody tr th {\n",
       "        vertical-align: top;\n",
       "    }\n",
       "\n",
       "    .dataframe thead th {\n",
       "        text-align: right;\n",
       "    }\n",
       "</style>\n",
       "<table border=\"1\" class=\"dataframe\">\n",
       "  <thead>\n",
       "    <tr style=\"text-align: right;\">\n",
       "      <th></th>\n",
       "      <th>user_id</th>\n",
       "      <th>clean_artist</th>\n",
       "      <th>freq</th>\n",
       "      <th>artist_id</th>\n",
       "    </tr>\n",
       "  </thead>\n",
       "  <tbody>\n",
       "    <tr>\n",
       "      <th>0</th>\n",
       "      <td>00055176fea33f6e027cd3302289378b</td>\n",
       "      <td>5secondsofsummer</td>\n",
       "      <td>1.010762</td>\n",
       "      <td>707</td>\n",
       "    </tr>\n",
       "    <tr>\n",
       "      <th>1</th>\n",
       "      <td>00055176fea33f6e027cd3302289378b</td>\n",
       "      <td>5secondsofsummer</td>\n",
       "      <td>1.010762</td>\n",
       "      <td>707</td>\n",
       "    </tr>\n",
       "    <tr>\n",
       "      <th>2</th>\n",
       "      <td>00055176fea33f6e027cd3302289378b</td>\n",
       "      <td>5secondsofsummer</td>\n",
       "      <td>1.010762</td>\n",
       "      <td>707</td>\n",
       "    </tr>\n",
       "    <tr>\n",
       "      <th>3</th>\n",
       "      <td>00055176fea33f6e027cd3302289378b</td>\n",
       "      <td>5secondsofsummer</td>\n",
       "      <td>1.010762</td>\n",
       "      <td>707</td>\n",
       "    </tr>\n",
       "    <tr>\n",
       "      <th>4</th>\n",
       "      <td>00055176fea33f6e027cd3302289378b</td>\n",
       "      <td>5secondsofsummer</td>\n",
       "      <td>1.010762</td>\n",
       "      <td>707</td>\n",
       "    </tr>\n",
       "  </tbody>\n",
       "</table>\n",
       "</div>"
      ],
      "text/plain": [
       "                            user_id      clean_artist      freq  artist_id\n",
       "0  00055176fea33f6e027cd3302289378b  5secondsofsummer  1.010762        707\n",
       "1  00055176fea33f6e027cd3302289378b  5secondsofsummer  1.010762        707\n",
       "2  00055176fea33f6e027cd3302289378b  5secondsofsummer  1.010762        707\n",
       "3  00055176fea33f6e027cd3302289378b  5secondsofsummer  1.010762        707\n",
       "4  00055176fea33f6e027cd3302289378b  5secondsofsummer  1.010762        707"
      ]
     },
     "execution_count": 79,
     "metadata": {},
     "output_type": "execute_result"
    }
   ],
   "source": [
    "combined_pandas_df[[\"freq\"]] = scaler.fit_transform(combined_pandas_df[[\"freq\"]])\n",
    "combined_pandas_df.head()"
   ]
  },
  {
   "cell_type": "code",
   "execution_count": 81,
   "id": "66db1c0b",
   "metadata": {},
   "outputs": [],
   "source": [
    "reader = Reader(rating_scale=(1, 5))"
   ]
  },
  {
   "cell_type": "code",
   "execution_count": 83,
   "id": "37de0f58",
   "metadata": {},
   "outputs": [],
   "source": [
    "data = Dataset.load_from_df(combined_pandas_df[['user_id', 'artist_id', 'freq']], reader)"
   ]
  },
  {
   "cell_type": "code",
   "execution_count": 84,
   "id": "2c3e4739",
   "metadata": {},
   "outputs": [],
   "source": [
    "from surprise.model_selection import cross_validate\n",
    "from surprise import NormalPredictor"
   ]
  },
  {
   "cell_type": "markdown",
   "id": "d520683c",
   "metadata": {},
   "source": [
    "# Training with surprise"
   ]
  },
  {
   "cell_type": "code",
   "execution_count": 93,
   "id": "f9a7acb7",
   "metadata": {},
   "outputs": [],
   "source": [
    "def get_testset_accuracy(testset):\n",
    "    total_matches = 0\n",
    "    for item in testset:\n",
    "        uid = item[0]\n",
    "        preds = []\n",
    "        for id in combined_pandas_df.artist_id.values:\n",
    "            preds.append(svd.predict(uid=uid, iid=id))\n",
    "        iid=[]\n",
    "        for pred in preds:\n",
    "            iid.append(pred.iid)\n",
    "        iid=list(dict.fromkeys(iid))\n",
    "        predicted_artists = set()\n",
    "        for i in iid[:30]: #Compare top 30 recommendations\n",
    "#             artist = artist_df.loc[artist_df.artist_id == i].artist.values[0]\n",
    "            artist = get_unique_artist(artist_id=i)\n",
    "            predicted_artists.add(artist)\n",
    "#         known_artists = list(set(df.loc[df[\"user_id\"] == uid].artist.values))\n",
    "        known_artist = get_all_artists(user_id=uid)\n",
    "        #print(len(known_artists))\n",
    "        total_matches += len(predicted_artists.intersection(known_artists))\n",
    "    print(total_matches / (30 * len(testset)))      "
   ]
  },
  {
   "cell_type": "code",
   "execution_count": 94,
   "id": "9e7b8cd8",
   "metadata": {},
   "outputs": [
    {
     "name": "stdout",
     "output_type": "stream",
     "text": [
      "Processing epoch 0\n"
     ]
    },
    {
     "name": "stderr",
     "output_type": "stream",
     "text": [
      "                                                                                \r"
     ]
    },
    {
     "ename": "KeyboardInterrupt",
     "evalue": "",
     "output_type": "error",
     "traceback": [
      "\u001b[0;31m---------------------------------------------------------------------------\u001b[0m",
      "\u001b[0;31mKeyboardInterrupt\u001b[0m                         Traceback (most recent call last)",
      "\u001b[0;32m/var/folders/j4/gvgvmhl12xn_0ml6mmbhnbfm0000gn/T/ipykernel_6936/762643000.py\u001b[0m in \u001b[0;36m<module>\u001b[0;34m\u001b[0m\n\u001b[1;32m      5\u001b[0m     \u001b[0;31m# train and test algorithm.\u001b[0m\u001b[0;34m\u001b[0m\u001b[0;34m\u001b[0m\u001b[0;34m\u001b[0m\u001b[0m\n\u001b[1;32m      6\u001b[0m     \u001b[0msvd\u001b[0m\u001b[0;34m.\u001b[0m\u001b[0mfit\u001b[0m\u001b[0;34m(\u001b[0m\u001b[0mtrainset\u001b[0m\u001b[0;34m)\u001b[0m\u001b[0;34m\u001b[0m\u001b[0;34m\u001b[0m\u001b[0m\n\u001b[0;32m----> 7\u001b[0;31m     \u001b[0mget_testset_accuracy\u001b[0m\u001b[0;34m(\u001b[0m\u001b[0mtestset\u001b[0m\u001b[0;34m[\u001b[0m\u001b[0;34m:\u001b[0m\u001b[0;36m2\u001b[0m\u001b[0;34m]\u001b[0m\u001b[0;34m)\u001b[0m\u001b[0;34m\u001b[0m\u001b[0;34m\u001b[0m\u001b[0m\n\u001b[0m\u001b[1;32m      8\u001b[0m     \u001b[0mpredictions\u001b[0m \u001b[0;34m=\u001b[0m \u001b[0msvd\u001b[0m\u001b[0;34m.\u001b[0m\u001b[0mtest\u001b[0m\u001b[0;34m(\u001b[0m\u001b[0mtestset\u001b[0m\u001b[0;34m)\u001b[0m\u001b[0;34m\u001b[0m\u001b[0;34m\u001b[0m\u001b[0m\n\u001b[1;32m      9\u001b[0m     \u001b[0;31m# Compute and print Root Mean Squared Error\u001b[0m\u001b[0;34m\u001b[0m\u001b[0;34m\u001b[0m\u001b[0;34m\u001b[0m\u001b[0m\n",
      "\u001b[0;32m/var/folders/j4/gvgvmhl12xn_0ml6mmbhnbfm0000gn/T/ipykernel_6936/312233139.py\u001b[0m in \u001b[0;36mget_testset_accuracy\u001b[0;34m(testset)\u001b[0m\n\u001b[1;32m     13\u001b[0m         \u001b[0;32mfor\u001b[0m \u001b[0mi\u001b[0m \u001b[0;32min\u001b[0m \u001b[0miid\u001b[0m\u001b[0;34m[\u001b[0m\u001b[0;34m:\u001b[0m\u001b[0;36m30\u001b[0m\u001b[0;34m]\u001b[0m\u001b[0;34m:\u001b[0m \u001b[0;31m#Compare top 30 recommendations\u001b[0m\u001b[0;34m\u001b[0m\u001b[0;34m\u001b[0m\u001b[0m\n\u001b[1;32m     14\u001b[0m \u001b[0;31m#             artist = artist_df.loc[artist_df.artist_id == i].artist.values[0]\u001b[0m\u001b[0;34m\u001b[0m\u001b[0;34m\u001b[0m\u001b[0;34m\u001b[0m\u001b[0m\n\u001b[0;32m---> 15\u001b[0;31m             \u001b[0martist\u001b[0m \u001b[0;34m=\u001b[0m \u001b[0mget_unique_artist\u001b[0m\u001b[0;34m(\u001b[0m\u001b[0martist_id\u001b[0m\u001b[0;34m=\u001b[0m\u001b[0mi\u001b[0m\u001b[0;34m)\u001b[0m\u001b[0;34m\u001b[0m\u001b[0;34m\u001b[0m\u001b[0m\n\u001b[0m\u001b[1;32m     16\u001b[0m             \u001b[0mpredicted_artists\u001b[0m\u001b[0;34m.\u001b[0m\u001b[0madd\u001b[0m\u001b[0;34m(\u001b[0m\u001b[0martist\u001b[0m\u001b[0;34m)\u001b[0m\u001b[0;34m\u001b[0m\u001b[0;34m\u001b[0m\u001b[0m\n\u001b[1;32m     17\u001b[0m \u001b[0;31m#         known_artists = list(set(df.loc[df[\"user_id\"] == uid].artist.values))\u001b[0m\u001b[0;34m\u001b[0m\u001b[0;34m\u001b[0m\u001b[0;34m\u001b[0m\u001b[0m\n",
      "\u001b[0;32m/var/folders/j4/gvgvmhl12xn_0ml6mmbhnbfm0000gn/T/ipykernel_6936/3375510897.py\u001b[0m in \u001b[0;36mget_unique_artist\u001b[0;34m(artist_id)\u001b[0m\n\u001b[1;32m      1\u001b[0m \u001b[0;32mdef\u001b[0m \u001b[0mget_unique_artist\u001b[0m\u001b[0;34m(\u001b[0m\u001b[0martist_id\u001b[0m\u001b[0;34m)\u001b[0m\u001b[0;34m:\u001b[0m\u001b[0;34m\u001b[0m\u001b[0;34m\u001b[0m\u001b[0m\n\u001b[1;32m      2\u001b[0m     \u001b[0mcombined_df\u001b[0m\u001b[0;34m.\u001b[0m\u001b[0mcreateOrReplaceTempView\u001b[0m\u001b[0;34m(\u001b[0m\u001b[0;34m\"hugo_table\"\u001b[0m\u001b[0;34m)\u001b[0m \u001b[0;31m#Create view to run sql\u001b[0m\u001b[0;34m\u001b[0m\u001b[0;34m\u001b[0m\u001b[0m\n\u001b[0;32m----> 3\u001b[0;31m     \u001b[0mres\u001b[0m \u001b[0;34m=\u001b[0m \u001b[0mspark\u001b[0m\u001b[0;34m.\u001b[0m\u001b[0msql\u001b[0m\u001b[0;34m(\u001b[0m\u001b[0;34mf\"SELECT clean_artist from hugo_table where artist_id='{artist_id}';\"\u001b[0m\u001b[0;34m)\u001b[0m\u001b[0;34m.\u001b[0m\u001b[0mcollect\u001b[0m\u001b[0;34m(\u001b[0m\u001b[0;34m)\u001b[0m\u001b[0;34m\u001b[0m\u001b[0;34m\u001b[0m\u001b[0m\n\u001b[0m\u001b[1;32m      4\u001b[0m     \u001b[0;32mreturn\u001b[0m \u001b[0mlist\u001b[0m\u001b[0;34m(\u001b[0m\u001b[0mres\u001b[0m\u001b[0;34m[\u001b[0m\u001b[0;36m0\u001b[0m\u001b[0;34m]\u001b[0m\u001b[0;34m.\u001b[0m\u001b[0masDict\u001b[0m\u001b[0;34m(\u001b[0m\u001b[0;34m)\u001b[0m\u001b[0;34m.\u001b[0m\u001b[0mvalues\u001b[0m\u001b[0;34m(\u001b[0m\u001b[0;34m)\u001b[0m\u001b[0;34m)\u001b[0m\u001b[0;34m[\u001b[0m\u001b[0;36m0\u001b[0m\u001b[0;34m]\u001b[0m\u001b[0;34m\u001b[0m\u001b[0;34m\u001b[0m\u001b[0m\n",
      "\u001b[0;32m~/opt/anaconda3/envs/music_env/lib/python3.8/site-packages/pyspark/sql/dataframe.py\u001b[0m in \u001b[0;36mcollect\u001b[0;34m(self)\u001b[0m\n\u001b[1;32m    691\u001b[0m         \"\"\"\n\u001b[1;32m    692\u001b[0m         \u001b[0;32mwith\u001b[0m \u001b[0mSCCallSiteSync\u001b[0m\u001b[0;34m(\u001b[0m\u001b[0mself\u001b[0m\u001b[0;34m.\u001b[0m\u001b[0m_sc\u001b[0m\u001b[0;34m)\u001b[0m \u001b[0;32mas\u001b[0m \u001b[0mcss\u001b[0m\u001b[0;34m:\u001b[0m\u001b[0;34m\u001b[0m\u001b[0;34m\u001b[0m\u001b[0m\n\u001b[0;32m--> 693\u001b[0;31m             \u001b[0msock_info\u001b[0m \u001b[0;34m=\u001b[0m \u001b[0mself\u001b[0m\u001b[0;34m.\u001b[0m\u001b[0m_jdf\u001b[0m\u001b[0;34m.\u001b[0m\u001b[0mcollectToPython\u001b[0m\u001b[0;34m(\u001b[0m\u001b[0;34m)\u001b[0m\u001b[0;34m\u001b[0m\u001b[0;34m\u001b[0m\u001b[0m\n\u001b[0m\u001b[1;32m    694\u001b[0m         \u001b[0;32mreturn\u001b[0m \u001b[0mlist\u001b[0m\u001b[0;34m(\u001b[0m\u001b[0m_load_from_socket\u001b[0m\u001b[0;34m(\u001b[0m\u001b[0msock_info\u001b[0m\u001b[0;34m,\u001b[0m \u001b[0mBatchedSerializer\u001b[0m\u001b[0;34m(\u001b[0m\u001b[0mPickleSerializer\u001b[0m\u001b[0;34m(\u001b[0m\u001b[0;34m)\u001b[0m\u001b[0;34m)\u001b[0m\u001b[0;34m)\u001b[0m\u001b[0;34m)\u001b[0m\u001b[0;34m\u001b[0m\u001b[0;34m\u001b[0m\u001b[0m\n\u001b[1;32m    695\u001b[0m \u001b[0;34m\u001b[0m\u001b[0m\n",
      "\u001b[0;32m~/opt/anaconda3/envs/music_env/lib/python3.8/site-packages/py4j/java_gateway.py\u001b[0m in \u001b[0;36m__call__\u001b[0;34m(self, *args)\u001b[0m\n\u001b[1;32m   1306\u001b[0m             \u001b[0mproto\u001b[0m\u001b[0;34m.\u001b[0m\u001b[0mEND_COMMAND_PART\u001b[0m\u001b[0;34m\u001b[0m\u001b[0;34m\u001b[0m\u001b[0m\n\u001b[1;32m   1307\u001b[0m \u001b[0;34m\u001b[0m\u001b[0m\n\u001b[0;32m-> 1308\u001b[0;31m         \u001b[0manswer\u001b[0m \u001b[0;34m=\u001b[0m \u001b[0mself\u001b[0m\u001b[0;34m.\u001b[0m\u001b[0mgateway_client\u001b[0m\u001b[0;34m.\u001b[0m\u001b[0msend_command\u001b[0m\u001b[0;34m(\u001b[0m\u001b[0mcommand\u001b[0m\u001b[0;34m)\u001b[0m\u001b[0;34m\u001b[0m\u001b[0;34m\u001b[0m\u001b[0m\n\u001b[0m\u001b[1;32m   1309\u001b[0m         return_value = get_return_value(\n\u001b[1;32m   1310\u001b[0m             answer, self.gateway_client, self.target_id, self.name)\n",
      "\u001b[0;32m~/opt/anaconda3/envs/music_env/lib/python3.8/site-packages/py4j/java_gateway.py\u001b[0m in \u001b[0;36msend_command\u001b[0;34m(self, command, retry, binary)\u001b[0m\n\u001b[1;32m   1036\u001b[0m         \u001b[0mconnection\u001b[0m \u001b[0;34m=\u001b[0m \u001b[0mself\u001b[0m\u001b[0;34m.\u001b[0m\u001b[0m_get_connection\u001b[0m\u001b[0;34m(\u001b[0m\u001b[0;34m)\u001b[0m\u001b[0;34m\u001b[0m\u001b[0;34m\u001b[0m\u001b[0m\n\u001b[1;32m   1037\u001b[0m         \u001b[0;32mtry\u001b[0m\u001b[0;34m:\u001b[0m\u001b[0;34m\u001b[0m\u001b[0;34m\u001b[0m\u001b[0m\n\u001b[0;32m-> 1038\u001b[0;31m             \u001b[0mresponse\u001b[0m \u001b[0;34m=\u001b[0m \u001b[0mconnection\u001b[0m\u001b[0;34m.\u001b[0m\u001b[0msend_command\u001b[0m\u001b[0;34m(\u001b[0m\u001b[0mcommand\u001b[0m\u001b[0;34m)\u001b[0m\u001b[0;34m\u001b[0m\u001b[0;34m\u001b[0m\u001b[0m\n\u001b[0m\u001b[1;32m   1039\u001b[0m             \u001b[0;32mif\u001b[0m \u001b[0mbinary\u001b[0m\u001b[0;34m:\u001b[0m\u001b[0;34m\u001b[0m\u001b[0;34m\u001b[0m\u001b[0m\n\u001b[1;32m   1040\u001b[0m                 \u001b[0;32mreturn\u001b[0m \u001b[0mresponse\u001b[0m\u001b[0;34m,\u001b[0m \u001b[0mself\u001b[0m\u001b[0;34m.\u001b[0m\u001b[0m_create_connection_guard\u001b[0m\u001b[0;34m(\u001b[0m\u001b[0mconnection\u001b[0m\u001b[0;34m)\u001b[0m\u001b[0;34m\u001b[0m\u001b[0;34m\u001b[0m\u001b[0m\n",
      "\u001b[0;32m~/opt/anaconda3/envs/music_env/lib/python3.8/site-packages/py4j/clientserver.py\u001b[0m in \u001b[0;36msend_command\u001b[0;34m(self, command)\u001b[0m\n\u001b[1;32m    473\u001b[0m         \u001b[0;32mtry\u001b[0m\u001b[0;34m:\u001b[0m\u001b[0;34m\u001b[0m\u001b[0;34m\u001b[0m\u001b[0m\n\u001b[1;32m    474\u001b[0m             \u001b[0;32mwhile\u001b[0m \u001b[0;32mTrue\u001b[0m\u001b[0;34m:\u001b[0m\u001b[0;34m\u001b[0m\u001b[0;34m\u001b[0m\u001b[0m\n\u001b[0;32m--> 475\u001b[0;31m                 \u001b[0manswer\u001b[0m \u001b[0;34m=\u001b[0m \u001b[0msmart_decode\u001b[0m\u001b[0;34m(\u001b[0m\u001b[0mself\u001b[0m\u001b[0;34m.\u001b[0m\u001b[0mstream\u001b[0m\u001b[0;34m.\u001b[0m\u001b[0mreadline\u001b[0m\u001b[0;34m(\u001b[0m\u001b[0;34m)\u001b[0m\u001b[0;34m[\u001b[0m\u001b[0;34m:\u001b[0m\u001b[0;34m-\u001b[0m\u001b[0;36m1\u001b[0m\u001b[0;34m]\u001b[0m\u001b[0;34m)\u001b[0m\u001b[0;34m\u001b[0m\u001b[0;34m\u001b[0m\u001b[0m\n\u001b[0m\u001b[1;32m    476\u001b[0m                 \u001b[0mlogger\u001b[0m\u001b[0;34m.\u001b[0m\u001b[0mdebug\u001b[0m\u001b[0;34m(\u001b[0m\u001b[0;34m\"Answer received: {0}\"\u001b[0m\u001b[0;34m.\u001b[0m\u001b[0mformat\u001b[0m\u001b[0;34m(\u001b[0m\u001b[0manswer\u001b[0m\u001b[0;34m)\u001b[0m\u001b[0;34m)\u001b[0m\u001b[0;34m\u001b[0m\u001b[0;34m\u001b[0m\u001b[0m\n\u001b[1;32m    477\u001b[0m                 \u001b[0;31m# Happens when a the other end is dead. There might be an empty\u001b[0m\u001b[0;34m\u001b[0m\u001b[0;34m\u001b[0m\u001b[0;34m\u001b[0m\u001b[0m\n",
      "\u001b[0;32m~/opt/anaconda3/envs/music_env/lib/python3.8/socket.py\u001b[0m in \u001b[0;36mreadinto\u001b[0;34m(self, b)\u001b[0m\n\u001b[1;32m    667\u001b[0m         \u001b[0;32mwhile\u001b[0m \u001b[0;32mTrue\u001b[0m\u001b[0;34m:\u001b[0m\u001b[0;34m\u001b[0m\u001b[0;34m\u001b[0m\u001b[0m\n\u001b[1;32m    668\u001b[0m             \u001b[0;32mtry\u001b[0m\u001b[0;34m:\u001b[0m\u001b[0;34m\u001b[0m\u001b[0;34m\u001b[0m\u001b[0m\n\u001b[0;32m--> 669\u001b[0;31m                 \u001b[0;32mreturn\u001b[0m \u001b[0mself\u001b[0m\u001b[0;34m.\u001b[0m\u001b[0m_sock\u001b[0m\u001b[0;34m.\u001b[0m\u001b[0mrecv_into\u001b[0m\u001b[0;34m(\u001b[0m\u001b[0mb\u001b[0m\u001b[0;34m)\u001b[0m\u001b[0;34m\u001b[0m\u001b[0;34m\u001b[0m\u001b[0m\n\u001b[0m\u001b[1;32m    670\u001b[0m             \u001b[0;32mexcept\u001b[0m \u001b[0mtimeout\u001b[0m\u001b[0;34m:\u001b[0m\u001b[0;34m\u001b[0m\u001b[0;34m\u001b[0m\u001b[0m\n\u001b[1;32m    671\u001b[0m                 \u001b[0mself\u001b[0m\u001b[0;34m.\u001b[0m\u001b[0m_timeout_occurred\u001b[0m \u001b[0;34m=\u001b[0m \u001b[0;32mTrue\u001b[0m\u001b[0;34m\u001b[0m\u001b[0;34m\u001b[0m\u001b[0m\n",
      "\u001b[0;31mKeyboardInterrupt\u001b[0m: "
     ]
    }
   ],
   "source": [
    "# define a cross-validation iterator\n",
    "kf = KFold(n_splits=2)\n",
    "svd = SVD(n_epochs=1, verbose=True)\n",
    "for trainset, testset in kf.split(data):\n",
    "    # train and test algorithm.\n",
    "    svd.fit(trainset)\n",
    "    get_testset_accuracy(testset[:2])\n",
    "    predictions = svd.test(testset)\n",
    "    # Compute and print Root Mean Squared Error\n",
    "    accuracy.rmse(predictions, verbose=True)"
   ]
  },
  {
   "cell_type": "code",
   "execution_count": null,
   "id": "b7d276ed",
   "metadata": {},
   "outputs": [],
   "source": [
    "def get_top_songs(artist, num_songs = 5):\n",
    "    return list(combined_pandas_df[combined_pandas_df['cleaned_artist'] == artist]['track'].value_counts()[0:num_songs].index)\n"
   ]
  },
  {
   "cell_type": "code",
   "execution_count": null,
   "id": "8b73f124",
   "metadata": {},
   "outputs": [],
   "source": [
    "def get_recommendation():\n",
    "    res = {}\n",
    "    for i in iid[:5]:\n",
    "        artist = combined_pandas_df.loc[combined_pandas_df.artist_id == i].cleaned_artist.values[0]\n",
    "        res[artist] = get_top_songs(artist)\n",
    "    return res"
   ]
  },
  {
   "cell_type": "code",
   "execution_count": null,
   "id": "44a70069",
   "metadata": {},
   "outputs": [],
   "source": []
  },
  {
   "cell_type": "code",
   "execution_count": null,
   "id": "9bb6f6f7",
   "metadata": {},
   "outputs": [],
   "source": []
  }
 ],
 "metadata": {
  "kernelspec": {
   "display_name": "Python 3 (ipykernel)",
   "language": "python",
   "name": "python3"
  },
  "language_info": {
   "codemirror_mode": {
    "name": "ipython",
    "version": 3
   },
   "file_extension": ".py",
   "mimetype": "text/x-python",
   "name": "python",
   "nbconvert_exporter": "python",
   "pygments_lexer": "ipython3",
   "version": "3.8.12"
  }
 },
 "nbformat": 4,
 "nbformat_minor": 5
}
