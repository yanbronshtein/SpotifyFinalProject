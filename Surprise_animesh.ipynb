{
 "cells": [
  {
   "cell_type": "code",
   "execution_count": 1,
   "id": "91b334f2",
   "metadata": {},
   "outputs": [],
   "source": [
    "# !pip install -U scikit-learn scikit-surprise numpy pandas"
   ]
  },
  {
   "cell_type": "code",
   "execution_count": 2,
   "id": "a782b88e",
   "metadata": {},
   "outputs": [],
   "source": [
    "from surprise import Dataset, Reader\n",
    "import pandas as pd\n",
    "import numpy as np\n",
    "import random\n",
    "from sklearn.preprocessing import MinMaxScaler\n",
    "from surprise import SVD\n",
    "from surprise.model_selection import KFold\n",
    "from surprise import accuracy"
   ]
  },
  {
   "cell_type": "code",
   "execution_count": 3,
   "id": "aa249beb",
   "metadata": {},
   "outputs": [
    {
     "data": {
      "text/html": [
       "<div>\n",
       "<style scoped>\n",
       "    .dataframe tbody tr th:only-of-type {\n",
       "        vertical-align: middle;\n",
       "    }\n",
       "\n",
       "    .dataframe tbody tr th {\n",
       "        vertical-align: top;\n",
       "    }\n",
       "\n",
       "    .dataframe thead th {\n",
       "        text-align: right;\n",
       "    }\n",
       "</style>\n",
       "<table border=\"1\" class=\"dataframe\">\n",
       "  <thead>\n",
       "    <tr style=\"text-align: right;\">\n",
       "      <th></th>\n",
       "      <th>user_id</th>\n",
       "      <th>\"artistname\"</th>\n",
       "      <th>\"trackname\"</th>\n",
       "      <th>\"playlistname\"</th>\n",
       "    </tr>\n",
       "  </thead>\n",
       "  <tbody>\n",
       "    <tr>\n",
       "      <th>0</th>\n",
       "      <td>9cc0cfd4d7d7885102480dd99e7a90d6</td>\n",
       "      <td>Elvis Costello</td>\n",
       "      <td>(The Angels Wanna Wear My) Red Shoes</td>\n",
       "      <td>HARD ROCK 2010</td>\n",
       "    </tr>\n",
       "    <tr>\n",
       "      <th>1</th>\n",
       "      <td>9cc0cfd4d7d7885102480dd99e7a90d6</td>\n",
       "      <td>Elvis Costello &amp; The Attractions</td>\n",
       "      <td>(What's So Funny 'Bout) Peace, Love And Unders...</td>\n",
       "      <td>HARD ROCK 2010</td>\n",
       "    </tr>\n",
       "    <tr>\n",
       "      <th>2</th>\n",
       "      <td>9cc0cfd4d7d7885102480dd99e7a90d6</td>\n",
       "      <td>Tiffany Page</td>\n",
       "      <td>7 Years Too Late</td>\n",
       "      <td>HARD ROCK 2010</td>\n",
       "    </tr>\n",
       "    <tr>\n",
       "      <th>3</th>\n",
       "      <td>9cc0cfd4d7d7885102480dd99e7a90d6</td>\n",
       "      <td>Elvis Costello &amp; The Attractions</td>\n",
       "      <td>Accidents Will Happen</td>\n",
       "      <td>HARD ROCK 2010</td>\n",
       "    </tr>\n",
       "    <tr>\n",
       "      <th>4</th>\n",
       "      <td>9cc0cfd4d7d7885102480dd99e7a90d6</td>\n",
       "      <td>Elvis Costello</td>\n",
       "      <td>Alison</td>\n",
       "      <td>HARD ROCK 2010</td>\n",
       "    </tr>\n",
       "  </tbody>\n",
       "</table>\n",
       "</div>"
      ],
      "text/plain": [
       "                            user_id                      \"artistname\"  \\\n",
       "0  9cc0cfd4d7d7885102480dd99e7a90d6                    Elvis Costello   \n",
       "1  9cc0cfd4d7d7885102480dd99e7a90d6  Elvis Costello & The Attractions   \n",
       "2  9cc0cfd4d7d7885102480dd99e7a90d6                      Tiffany Page   \n",
       "3  9cc0cfd4d7d7885102480dd99e7a90d6  Elvis Costello & The Attractions   \n",
       "4  9cc0cfd4d7d7885102480dd99e7a90d6                    Elvis Costello   \n",
       "\n",
       "                                         \"trackname\"  \"playlistname\"  \n",
       "0               (The Angels Wanna Wear My) Red Shoes  HARD ROCK 2010  \n",
       "1  (What's So Funny 'Bout) Peace, Love And Unders...  HARD ROCK 2010  \n",
       "2                                   7 Years Too Late  HARD ROCK 2010  \n",
       "3                              Accidents Will Happen  HARD ROCK 2010  \n",
       "4                                             Alison  HARD ROCK 2010  "
      ]
     },
     "execution_count": 3,
     "metadata": {},
     "output_type": "execute_result"
    }
   ],
   "source": [
    "df = pd.read_csv('./data/spotify_dataset.csv', on_bad_lines=\"skip\")\n",
    "df.head()"
   ]
  },
  {
   "cell_type": "code",
   "execution_count": 4,
   "id": "a3396bce",
   "metadata": {},
   "outputs": [
    {
     "data": {
      "text/plain": [
       "Index(['user_id', 'artist', 'track', 'playlist'], dtype='object')"
      ]
     },
     "execution_count": 4,
     "metadata": {},
     "output_type": "execute_result"
    }
   ],
   "source": [
    "df.columns = df.columns.str.replace('\"', '')\n",
    "df.columns = df.columns.str.replace('name', '')\n",
    "df.columns = df.columns.str.replace(' ', '')\n",
    "df.columns"
   ]
  },
  {
   "cell_type": "code",
   "execution_count": 5,
   "id": "af666307",
   "metadata": {},
   "outputs": [],
   "source": [
    "df.to_csv('./data/unprocessed.csv', index=False)"
   ]
  },
  {
   "cell_type": "code",
   "execution_count": 5,
   "id": "a34550e6",
   "metadata": {},
   "outputs": [
    {
     "data": {
      "text/html": [
       "<div>\n",
       "<style scoped>\n",
       "    .dataframe tbody tr th:only-of-type {\n",
       "        vertical-align: middle;\n",
       "    }\n",
       "\n",
       "    .dataframe tbody tr th {\n",
       "        vertical-align: top;\n",
       "    }\n",
       "\n",
       "    .dataframe thead th {\n",
       "        text-align: right;\n",
       "    }\n",
       "</style>\n",
       "<table border=\"1\" class=\"dataframe\">\n",
       "  <thead>\n",
       "    <tr style=\"text-align: right;\">\n",
       "      <th></th>\n",
       "      <th>user_id</th>\n",
       "      <th>artist</th>\n",
       "      <th>freq</th>\n",
       "    </tr>\n",
       "  </thead>\n",
       "  <tbody>\n",
       "    <tr>\n",
       "      <th>0</th>\n",
       "      <td>00055176fea33f6e027cd3302289378b</td>\n",
       "      <td>5 Seconds Of Summer</td>\n",
       "      <td>10</td>\n",
       "    </tr>\n",
       "    <tr>\n",
       "      <th>1</th>\n",
       "      <td>00055176fea33f6e027cd3302289378b</td>\n",
       "      <td>Abigail Breslin</td>\n",
       "      <td>1</td>\n",
       "    </tr>\n",
       "    <tr>\n",
       "      <th>2</th>\n",
       "      <td>00055176fea33f6e027cd3302289378b</td>\n",
       "      <td>Against The Current</td>\n",
       "      <td>3</td>\n",
       "    </tr>\n",
       "    <tr>\n",
       "      <th>3</th>\n",
       "      <td>00055176fea33f6e027cd3302289378b</td>\n",
       "      <td>All Time Low</td>\n",
       "      <td>8</td>\n",
       "    </tr>\n",
       "    <tr>\n",
       "      <th>4</th>\n",
       "      <td>00055176fea33f6e027cd3302289378b</td>\n",
       "      <td>Auryn</td>\n",
       "      <td>1</td>\n",
       "    </tr>\n",
       "  </tbody>\n",
       "</table>\n",
       "</div>"
      ],
      "text/plain": [
       "                            user_id               artist  freq\n",
       "0  00055176fea33f6e027cd3302289378b  5 Seconds Of Summer    10\n",
       "1  00055176fea33f6e027cd3302289378b      Abigail Breslin     1\n",
       "2  00055176fea33f6e027cd3302289378b  Against The Current     3\n",
       "3  00055176fea33f6e027cd3302289378b         All Time Low     8\n",
       "4  00055176fea33f6e027cd3302289378b                Auryn     1"
      ]
     },
     "execution_count": 5,
     "metadata": {},
     "output_type": "execute_result"
    }
   ],
   "source": [
    "size = lambda x: len(x)\n",
    "df_freq = df.groupby(['user_id', 'artist']).agg('size').reset_index().rename(columns={0:'freq'})[['user_id', 'artist', 'freq']]\n",
    "df_freq.head()artist"
   ]
  },
  {
   "cell_type": "code",
   "execution_count": 6,
   "id": "d4f4e94f",
   "metadata": {},
   "outputs": [],
   "source": [
    "artist = pd.unique(df['artist'].values.ravel())\n",
    "artist = pd.Series(np.arange(len(artist)), artist)\n",
    "df_freq[\"artist_id\"] = df_freq[['artist']].applymap(artist.get)"
   ]
  },
  {
   "cell_type": "code",
   "execution_count": 10,
   "id": "cddba3a3",
   "metadata": {},
   "outputs": [
    {
     "data": {
      "text/html": [
       "<div>\n",
       "<style scoped>\n",
       "    .dataframe tbody tr th:only-of-type {\n",
       "        vertical-align: middle;\n",
       "    }\n",
       "\n",
       "    .dataframe tbody tr th {\n",
       "        vertical-align: top;\n",
       "    }\n",
       "\n",
       "    .dataframe thead th {\n",
       "        text-align: right;\n",
       "    }\n",
       "</style>\n",
       "<table border=\"1\" class=\"dataframe\">\n",
       "  <thead>\n",
       "    <tr style=\"text-align: right;\">\n",
       "      <th></th>\n",
       "      <th>user_id</th>\n",
       "      <th>freq</th>\n",
       "      <th>artist_id</th>\n",
       "    </tr>\n",
       "  </thead>\n",
       "  <tbody>\n",
       "    <tr>\n",
       "      <th>0</th>\n",
       "      <td>00055176fea33f6e027cd3302289378b</td>\n",
       "      <td>10</td>\n",
       "      <td>713</td>\n",
       "    </tr>\n",
       "    <tr>\n",
       "      <th>1</th>\n",
       "      <td>00055176fea33f6e027cd3302289378b</td>\n",
       "      <td>1</td>\n",
       "      <td>132909</td>\n",
       "    </tr>\n",
       "    <tr>\n",
       "      <th>2</th>\n",
       "      <td>00055176fea33f6e027cd3302289378b</td>\n",
       "      <td>3</td>\n",
       "      <td>7994</td>\n",
       "    </tr>\n",
       "    <tr>\n",
       "      <th>3</th>\n",
       "      <td>00055176fea33f6e027cd3302289378b</td>\n",
       "      <td>8</td>\n",
       "      <td>698</td>\n",
       "    </tr>\n",
       "    <tr>\n",
       "      <th>4</th>\n",
       "      <td>00055176fea33f6e027cd3302289378b</td>\n",
       "      <td>1</td>\n",
       "      <td>8100</td>\n",
       "    </tr>\n",
       "  </tbody>\n",
       "</table>\n",
       "</div>"
      ],
      "text/plain": [
       "                            user_id  freq  artist_id\n",
       "0  00055176fea33f6e027cd3302289378b    10        713\n",
       "1  00055176fea33f6e027cd3302289378b     1     132909\n",
       "2  00055176fea33f6e027cd3302289378b     3       7994\n",
       "3  00055176fea33f6e027cd3302289378b     8        698\n",
       "4  00055176fea33f6e027cd3302289378b     1       8100"
      ]
     },
     "execution_count": 10,
     "metadata": {},
     "output_type": "execute_result"
    }
   ],
   "source": [
    "artist_df = pd.DataFrame(df_freq[\"artist_id\"].unique(), columns = [\"artist_id\"])\n",
    "artist_df[\"artist\"] = df_freq[\"artist\"].unique()\n",
    "df_freq.drop('artist', axis = 1, inplace = True)\n",
    "df_freq.head()"
   ]
  },
  {
   "cell_type": "code",
   "execution_count": 11,
   "id": "a53cc7af",
   "metadata": {},
   "outputs": [],
   "source": [
    "scaler = MinMaxScaler(feature_range=(1,5))"
   ]
  },
  {
   "cell_type": "code",
   "execution_count": 12,
   "id": "a7194e96",
   "metadata": {},
   "outputs": [
    {
     "data": {
      "text/html": [
       "<div>\n",
       "<style scoped>\n",
       "    .dataframe tbody tr th:only-of-type {\n",
       "        vertical-align: middle;\n",
       "    }\n",
       "\n",
       "    .dataframe tbody tr th {\n",
       "        vertical-align: top;\n",
       "    }\n",
       "\n",
       "    .dataframe thead th {\n",
       "        text-align: right;\n",
       "    }\n",
       "</style>\n",
       "<table border=\"1\" class=\"dataframe\">\n",
       "  <thead>\n",
       "    <tr style=\"text-align: right;\">\n",
       "      <th></th>\n",
       "      <th>user_id</th>\n",
       "      <th>freq</th>\n",
       "      <th>artist_id</th>\n",
       "    </tr>\n",
       "  </thead>\n",
       "  <tbody>\n",
       "    <tr>\n",
       "      <th>0</th>\n",
       "      <td>00055176fea33f6e027cd3302289378b</td>\n",
       "      <td>1.010762</td>\n",
       "      <td>713</td>\n",
       "    </tr>\n",
       "    <tr>\n",
       "      <th>1</th>\n",
       "      <td>00055176fea33f6e027cd3302289378b</td>\n",
       "      <td>1.000000</td>\n",
       "      <td>132909</td>\n",
       "    </tr>\n",
       "    <tr>\n",
       "      <th>2</th>\n",
       "      <td>00055176fea33f6e027cd3302289378b</td>\n",
       "      <td>1.002392</td>\n",
       "      <td>7994</td>\n",
       "    </tr>\n",
       "    <tr>\n",
       "      <th>3</th>\n",
       "      <td>00055176fea33f6e027cd3302289378b</td>\n",
       "      <td>1.008371</td>\n",
       "      <td>698</td>\n",
       "    </tr>\n",
       "    <tr>\n",
       "      <th>4</th>\n",
       "      <td>00055176fea33f6e027cd3302289378b</td>\n",
       "      <td>1.000000</td>\n",
       "      <td>8100</td>\n",
       "    </tr>\n",
       "    <tr>\n",
       "      <th>...</th>\n",
       "      <td>...</td>\n",
       "      <td>...</td>\n",
       "      <td>...</td>\n",
       "    </tr>\n",
       "    <tr>\n",
       "      <th>3285626</th>\n",
       "      <td>fff77dadf8528083c920b9c018847e8b</td>\n",
       "      <td>1.000000</td>\n",
       "      <td>1142</td>\n",
       "    </tr>\n",
       "    <tr>\n",
       "      <th>3285627</th>\n",
       "      <td>fff77dadf8528083c920b9c018847e8b</td>\n",
       "      <td>1.000000</td>\n",
       "      <td>1580</td>\n",
       "    </tr>\n",
       "    <tr>\n",
       "      <th>3285628</th>\n",
       "      <td>fff77dadf8528083c920b9c018847e8b</td>\n",
       "      <td>1.000000</td>\n",
       "      <td>1030</td>\n",
       "    </tr>\n",
       "    <tr>\n",
       "      <th>3285629</th>\n",
       "      <td>fff77dadf8528083c920b9c018847e8b</td>\n",
       "      <td>1.001196</td>\n",
       "      <td>699</td>\n",
       "    </tr>\n",
       "    <tr>\n",
       "      <th>3285630</th>\n",
       "      <td>fff77dadf8528083c920b9c018847e8b</td>\n",
       "      <td>1.000000</td>\n",
       "      <td>388</td>\n",
       "    </tr>\n",
       "  </tbody>\n",
       "</table>\n",
       "<p>3285631 rows × 3 columns</p>\n",
       "</div>"
      ],
      "text/plain": [
       "                                  user_id      freq  artist_id\n",
       "0        00055176fea33f6e027cd3302289378b  1.010762        713\n",
       "1        00055176fea33f6e027cd3302289378b  1.000000     132909\n",
       "2        00055176fea33f6e027cd3302289378b  1.002392       7994\n",
       "3        00055176fea33f6e027cd3302289378b  1.008371        698\n",
       "4        00055176fea33f6e027cd3302289378b  1.000000       8100\n",
       "...                                   ...       ...        ...\n",
       "3285626  fff77dadf8528083c920b9c018847e8b  1.000000       1142\n",
       "3285627  fff77dadf8528083c920b9c018847e8b  1.000000       1580\n",
       "3285628  fff77dadf8528083c920b9c018847e8b  1.000000       1030\n",
       "3285629  fff77dadf8528083c920b9c018847e8b  1.001196        699\n",
       "3285630  fff77dadf8528083c920b9c018847e8b  1.000000        388\n",
       "\n",
       "[3285631 rows x 3 columns]"
      ]
     },
     "execution_count": 12,
     "metadata": {},
     "output_type": "execute_result"
    }
   ],
   "source": [
    "df_freq[[\"freq\"]] = scaler.fit_transform(df_freq[[\"freq\"]])\n",
    "df_freq"
   ]
  },
  {
   "cell_type": "code",
   "execution_count": 39,
   "id": "ffd7557e",
   "metadata": {},
   "outputs": [],
   "source": [
    "reader = Reader(rating_scale=(1, 5))\n",
    "data = Dataset.load_from_df(df_freq[['user_id', 'artist_id', 'freq']], reader)"
   ]
  },
  {
   "cell_type": "code",
   "execution_count": 60,
   "id": "9424670f",
   "metadata": {},
   "outputs": [],
   "source": [
    "def get_testset_accuracy(testset):\n",
    "    total_matches = 0\n",
    "    for item in testset:\n",
    "        uid = item[0]\n",
    "        preds = []\n",
    "        for id in df_freq.artist_id.values:\n",
    "            preds.append(svd.predict(uid=uid, iid=id))\n",
    "        iid=[]\n",
    "        for pred in preds:\n",
    "            iid.append(pred.iid)\n",
    "        iid=list(dict.fromkeys(iid))\n",
    "        predicted_artists = set()\n",
    "        for i in iid[:30]:\n",
    "            artist = artist_df.loc[artist_df.artist_id == i].artist.values[0]\n",
    "            predicted_artists.add(artist)\n",
    "        known_artists = list(set(df.loc[df[\"user_id\"] == uid].artist.values))\n",
    "        #print(len(known_artists))\n",
    "        total_matches += len(predicted_artists.intersection(known_artists))\n",
    "    print(total_matches / (30 * len(testset)))      "
   ]
  },
  {
   "cell_type": "code",
   "execution_count": null,
   "id": "7531a521",
   "metadata": {
    "tags": []
   },
   "outputs": [],
   "source": [
    "# define a cross-validation iterator\n",
    "kf = KFold(n_splits=2)\n",
    "svd = SVD(n_epochs=100)\n",
    "for trainset, testset in kf.split(data):\n",
    "    # train and test algorithm.\n",
    "    svd.fit(trainset)\n",
    "    get_testset_accuracy(testset[:100])\n",
    "    predictions = svd.test(testset)\n",
    "    # Compute and print Root Mean Squared Error\n",
    "    accuracy.rmse(predictions, verbose=True)"
   ]
  },
  {
   "cell_type": "code",
   "execution_count": 17,
   "id": "a713848f",
   "metadata": {},
   "outputs": [],
   "source": [
    "preds = []\n",
    "for id in df_freq.artist_id.values:\n",
    "    preds.append(svd.predict(uid=\"00055176fea2346e027cd3302289378b\", iid=id))"
   ]
  },
  {
   "cell_type": "code",
   "execution_count": 18,
   "id": "dd5d0b00",
   "metadata": {},
   "outputs": [],
   "source": [
    "iid=[]\n",
    "for pred in preds:\n",
    "    iid.append(pred.iid)\n",
    "iid=list(dict.fromkeys(iid))"
   ]
  },
  {
   "cell_type": "code",
   "execution_count": 28,
   "id": "5204fb17",
   "metadata": {},
   "outputs": [],
   "source": [
    "def get_top_songs(artist, num_songs = 5):\n",
    "    return list(df[df['artist'] == artist]['track'].value_counts()[0:num_songs].index)"
   ]
  },
  {
   "cell_type": "code",
   "execution_count": 29,
   "id": "687e66e0",
   "metadata": {},
   "outputs": [],
   "source": [
    "res = {}\n",
    "for i in iid[:5]:\n",
    "    artist = artist_df.loc[artist_df.artist_id == i].artist.values[0]\n",
    "    res[artist] = get_top5_songs(artist)"
   ]
  },
  {
   "cell_type": "code",
   "execution_count": 30,
   "id": "54b0f1c3",
   "metadata": {},
   "outputs": [
    {
     "name": "stdout",
     "output_type": "stream",
     "text": [
      "{'5 Seconds Of Summer': ['She Looks So Perfect', 'Amnesia', \"Don't Stop\", 'Good Girls', 'Voodoo Doll'], 'Abigail Breslin': ['You Suck', 'Fight for Me', 'Christmas In New York (feat. No)', 'House of the Rising Sun', 'Hurricane'], 'Against The Current': ['Closer, Faster', 'Something You Need', 'Gravity', 'Infinity', 'Paralyzed'], 'All Time Low': ['Dear Maria, Count Me In', 'Weightless', 'Remembering Sunday', 'Lost In Stereo', 'Break Your Little Heart'], 'Auryn': [\"Don't give up my game\", 'Heartbreaker', 'Make my day', \"Saturday I'm in love\", 'Cuando Te Volveré A Ver']}\n"
     ]
    }
   ],
   "source": [
    "print(res)"
   ]
  },
  {
   "cell_type": "code",
   "execution_count": null,
   "id": "e61069e9",
   "metadata": {},
   "outputs": [],
   "source": []
  }
 ],
 "metadata": {
  "kernelspec": {
   "display_name": "Python 3 (ipykernel)",
   "language": "python",
   "name": "python3"
  },
  "language_info": {
   "codemirror_mode": {
    "name": "ipython",
    "version": 3
   },
   "file_extension": ".py",
   "mimetype": "text/x-python",
   "name": "python",
   "nbconvert_exporter": "python",
   "pygments_lexer": "ipython3",
   "version": "3.8.12"
  }
 },
 "nbformat": 4,
 "nbformat_minor": 5
}
