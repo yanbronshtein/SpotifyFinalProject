{
 "cells": [
  {
   "cell_type": "code",
   "execution_count": 2,
   "id": "0b3d7771",
   "metadata": {},
   "outputs": [],
   "source": [
    "import pandas as pd\n",
    "import numpy as np\n",
    "import "
   ]
  },
  {
   "cell_type": "markdown",
   "id": "c025f7ab",
   "metadata": {},
   "source": [
    "README\n",
    "Spotify playlists dataset\n",
    "\n",
    "\n",
    "This dataset is based on the subset of users in the #nowplaying dataset who publish their #nowplaying tweets via Spotify. In principle, the dataset holds users, their playlists and the tracks contained in these playlists. \n",
    "\n",
    "The csv-file holding the dataset contains the following columns: \n",
    "\"user_id\", \"artistname\", \"trackname\", \"playlistname\"\n",
    ", where\n",
    "- user_id is a hash of the user's Spotify user name\n",
    "- artistname is the name of the artist\n",
    "- trackname is the title of the track and\n",
    "- playlistname is the name of the playlist that contains this track.\n",
    "\n",
    "The separator used is , each entry is enclosed by double quotes and the escape character used is \\.\n",
    "\n",
    "\n",
    "\n",
    "A description of the generation of the dataset and the dataset itself can be found in the following paper:\n",
    "\n",
    "Pichl, Martin; Zangerle, Eva; Specht, Günther: \"Towards a Context-Aware Music Recommendation Approach: What is Hidden in the Playlist Name?\" in 15th IEEE International Conference on Data Mining Workshops (ICDM 2015), pp. 1360-1365, IEEE, Atlantic City, 2015.\n",
    "\n",
    "\n"
   ]
  },
  {
   "cell_type": "code",
   "execution_count": 29,
   "id": "705bddba",
   "metadata": {},
   "outputs": [],
   "source": [
    "df = pd.read_csv('data/spotify_dataset.csv',on_bad_lines='skip')"
   ]
  },
  {
   "cell_type": "code",
   "execution_count": 31,
   "id": "19befa93",
   "metadata": {},
   "outputs": [
    {
     "data": {
      "text/html": [
       "<div>\n",
       "<style scoped>\n",
       "    .dataframe tbody tr th:only-of-type {\n",
       "        vertical-align: middle;\n",
       "    }\n",
       "\n",
       "    .dataframe tbody tr th {\n",
       "        vertical-align: top;\n",
       "    }\n",
       "\n",
       "    .dataframe thead th {\n",
       "        text-align: right;\n",
       "    }\n",
       "</style>\n",
       "<table border=\"1\" class=\"dataframe\">\n",
       "  <thead>\n",
       "    <tr style=\"text-align: right;\">\n",
       "      <th></th>\n",
       "      <th>user_id</th>\n",
       "      <th>\"artistname\"</th>\n",
       "      <th>\"trackname\"</th>\n",
       "      <th>\"playlistname\"</th>\n",
       "    </tr>\n",
       "  </thead>\n",
       "  <tbody>\n",
       "    <tr>\n",
       "      <th>count</th>\n",
       "      <td>12891680</td>\n",
       "      <td>12858112</td>\n",
       "      <td>12891595</td>\n",
       "      <td>12890434</td>\n",
       "    </tr>\n",
       "    <tr>\n",
       "      <th>unique</th>\n",
       "      <td>15918</td>\n",
       "      <td>289821</td>\n",
       "      <td>2032044</td>\n",
       "      <td>157504</td>\n",
       "    </tr>\n",
       "    <tr>\n",
       "      <th>top</th>\n",
       "      <td>4398de6902abde3351347b048fcdc287</td>\n",
       "      <td>Daft Punk</td>\n",
       "      <td>Intro</td>\n",
       "      <td>Starred</td>\n",
       "    </tr>\n",
       "    <tr>\n",
       "      <th>freq</th>\n",
       "      <td>295275</td>\n",
       "      <td>36086</td>\n",
       "      <td>6676</td>\n",
       "      <td>1337085</td>\n",
       "    </tr>\n",
       "  </tbody>\n",
       "</table>\n",
       "</div>"
      ],
      "text/plain": [
       "                                 user_id  \"artistname\"  \"trackname\"  \\\n",
       "count                           12891680      12858112     12891595   \n",
       "unique                             15918        289821      2032044   \n",
       "top     4398de6902abde3351347b048fcdc287     Daft Punk        Intro   \n",
       "freq                              295275         36086         6676   \n",
       "\n",
       "        \"playlistname\"  \n",
       "count         12890434  \n",
       "unique          157504  \n",
       "top            Starred  \n",
       "freq           1337085  "
      ]
     },
     "execution_count": 31,
     "metadata": {},
     "output_type": "execute_result"
    }
   ],
   "source": [
    "df.describe()"
   ]
  },
  {
   "cell_type": "code",
   "execution_count": 32,
   "id": "17ccecc0",
   "metadata": {},
   "outputs": [
    {
     "name": "stdout",
     "output_type": "stream",
     "text": [
      "<class 'pandas.core.frame.DataFrame'>\n",
      "RangeIndex: 12891680 entries, 0 to 12891679\n",
      "Data columns (total 4 columns):\n",
      " #   Column           Dtype \n",
      "---  ------           ----- \n",
      " 0   user_id          object\n",
      " 1    \"artistname\"    object\n",
      " 2    \"trackname\"     object\n",
      " 3    \"playlistname\"  object\n",
      "dtypes: object(4)\n",
      "memory usage: 393.4+ MB\n"
     ]
    }
   ],
   "source": [
    "df.info()"
   ]
  },
  {
   "cell_type": "code",
   "execution_count": 33,
   "id": "84cbcd81",
   "metadata": {},
   "outputs": [
    {
     "data": {
      "text/plain": [
       "(12891680, 4)"
      ]
     },
     "execution_count": 33,
     "metadata": {},
     "output_type": "execute_result"
    }
   ],
   "source": [
    "df.shape"
   ]
  },
  {
   "cell_type": "code",
   "execution_count": 34,
   "id": "7f414307",
   "metadata": {},
   "outputs": [
    {
     "data": {
      "text/html": [
       "<div>\n",
       "<style scoped>\n",
       "    .dataframe tbody tr th:only-of-type {\n",
       "        vertical-align: middle;\n",
       "    }\n",
       "\n",
       "    .dataframe tbody tr th {\n",
       "        vertical-align: top;\n",
       "    }\n",
       "\n",
       "    .dataframe thead th {\n",
       "        text-align: right;\n",
       "    }\n",
       "</style>\n",
       "<table border=\"1\" class=\"dataframe\">\n",
       "  <thead>\n",
       "    <tr style=\"text-align: right;\">\n",
       "      <th></th>\n",
       "      <th>user_id</th>\n",
       "      <th>\"artistname\"</th>\n",
       "      <th>\"trackname\"</th>\n",
       "      <th>\"playlistname\"</th>\n",
       "    </tr>\n",
       "  </thead>\n",
       "  <tbody>\n",
       "    <tr>\n",
       "      <th>0</th>\n",
       "      <td>9cc0cfd4d7d7885102480dd99e7a90d6</td>\n",
       "      <td>Elvis Costello</td>\n",
       "      <td>(The Angels Wanna Wear My) Red Shoes</td>\n",
       "      <td>HARD ROCK 2010</td>\n",
       "    </tr>\n",
       "    <tr>\n",
       "      <th>1</th>\n",
       "      <td>9cc0cfd4d7d7885102480dd99e7a90d6</td>\n",
       "      <td>Elvis Costello &amp; The Attractions</td>\n",
       "      <td>(What's So Funny 'Bout) Peace, Love And Unders...</td>\n",
       "      <td>HARD ROCK 2010</td>\n",
       "    </tr>\n",
       "    <tr>\n",
       "      <th>2</th>\n",
       "      <td>9cc0cfd4d7d7885102480dd99e7a90d6</td>\n",
       "      <td>Tiffany Page</td>\n",
       "      <td>7 Years Too Late</td>\n",
       "      <td>HARD ROCK 2010</td>\n",
       "    </tr>\n",
       "    <tr>\n",
       "      <th>3</th>\n",
       "      <td>9cc0cfd4d7d7885102480dd99e7a90d6</td>\n",
       "      <td>Elvis Costello &amp; The Attractions</td>\n",
       "      <td>Accidents Will Happen</td>\n",
       "      <td>HARD ROCK 2010</td>\n",
       "    </tr>\n",
       "    <tr>\n",
       "      <th>4</th>\n",
       "      <td>9cc0cfd4d7d7885102480dd99e7a90d6</td>\n",
       "      <td>Elvis Costello</td>\n",
       "      <td>Alison</td>\n",
       "      <td>HARD ROCK 2010</td>\n",
       "    </tr>\n",
       "  </tbody>\n",
       "</table>\n",
       "</div>"
      ],
      "text/plain": [
       "                            user_id                      \"artistname\"  \\\n",
       "0  9cc0cfd4d7d7885102480dd99e7a90d6                    Elvis Costello   \n",
       "1  9cc0cfd4d7d7885102480dd99e7a90d6  Elvis Costello & The Attractions   \n",
       "2  9cc0cfd4d7d7885102480dd99e7a90d6                      Tiffany Page   \n",
       "3  9cc0cfd4d7d7885102480dd99e7a90d6  Elvis Costello & The Attractions   \n",
       "4  9cc0cfd4d7d7885102480dd99e7a90d6                    Elvis Costello   \n",
       "\n",
       "                                         \"trackname\"  \"playlistname\"  \n",
       "0               (The Angels Wanna Wear My) Red Shoes  HARD ROCK 2010  \n",
       "1  (What's So Funny 'Bout) Peace, Love And Unders...  HARD ROCK 2010  \n",
       "2                                   7 Years Too Late  HARD ROCK 2010  \n",
       "3                              Accidents Will Happen  HARD ROCK 2010  \n",
       "4                                             Alison  HARD ROCK 2010  "
      ]
     },
     "execution_count": 34,
     "metadata": {},
     "output_type": "execute_result"
    }
   ],
   "source": [
    "df.head(5)"
   ]
  },
  {
   "cell_type": "code",
   "execution_count": 35,
   "id": "a1225a48",
   "metadata": {},
   "outputs": [],
   "source": [
    "df.columns = ['user_id', 'artistname', 'trackname', 'playlistname']"
   ]
  },
  {
   "cell_type": "code",
   "execution_count": 36,
   "id": "1372b544",
   "metadata": {},
   "outputs": [
    {
     "data": {
      "text/html": [
       "<div>\n",
       "<style scoped>\n",
       "    .dataframe tbody tr th:only-of-type {\n",
       "        vertical-align: middle;\n",
       "    }\n",
       "\n",
       "    .dataframe tbody tr th {\n",
       "        vertical-align: top;\n",
       "    }\n",
       "\n",
       "    .dataframe thead th {\n",
       "        text-align: right;\n",
       "    }\n",
       "</style>\n",
       "<table border=\"1\" class=\"dataframe\">\n",
       "  <thead>\n",
       "    <tr style=\"text-align: right;\">\n",
       "      <th></th>\n",
       "      <th>user_id</th>\n",
       "      <th>artistname</th>\n",
       "      <th>trackname</th>\n",
       "      <th>playlistname</th>\n",
       "    </tr>\n",
       "  </thead>\n",
       "  <tbody>\n",
       "    <tr>\n",
       "      <th>0</th>\n",
       "      <td>9cc0cfd4d7d7885102480dd99e7a90d6</td>\n",
       "      <td>Elvis Costello</td>\n",
       "      <td>(The Angels Wanna Wear My) Red Shoes</td>\n",
       "      <td>HARD ROCK 2010</td>\n",
       "    </tr>\n",
       "    <tr>\n",
       "      <th>1</th>\n",
       "      <td>9cc0cfd4d7d7885102480dd99e7a90d6</td>\n",
       "      <td>Elvis Costello &amp; The Attractions</td>\n",
       "      <td>(What's So Funny 'Bout) Peace, Love And Unders...</td>\n",
       "      <td>HARD ROCK 2010</td>\n",
       "    </tr>\n",
       "    <tr>\n",
       "      <th>2</th>\n",
       "      <td>9cc0cfd4d7d7885102480dd99e7a90d6</td>\n",
       "      <td>Tiffany Page</td>\n",
       "      <td>7 Years Too Late</td>\n",
       "      <td>HARD ROCK 2010</td>\n",
       "    </tr>\n",
       "    <tr>\n",
       "      <th>3</th>\n",
       "      <td>9cc0cfd4d7d7885102480dd99e7a90d6</td>\n",
       "      <td>Elvis Costello &amp; The Attractions</td>\n",
       "      <td>Accidents Will Happen</td>\n",
       "      <td>HARD ROCK 2010</td>\n",
       "    </tr>\n",
       "    <tr>\n",
       "      <th>4</th>\n",
       "      <td>9cc0cfd4d7d7885102480dd99e7a90d6</td>\n",
       "      <td>Elvis Costello</td>\n",
       "      <td>Alison</td>\n",
       "      <td>HARD ROCK 2010</td>\n",
       "    </tr>\n",
       "  </tbody>\n",
       "</table>\n",
       "</div>"
      ],
      "text/plain": [
       "                            user_id                        artistname  \\\n",
       "0  9cc0cfd4d7d7885102480dd99e7a90d6                    Elvis Costello   \n",
       "1  9cc0cfd4d7d7885102480dd99e7a90d6  Elvis Costello & The Attractions   \n",
       "2  9cc0cfd4d7d7885102480dd99e7a90d6                      Tiffany Page   \n",
       "3  9cc0cfd4d7d7885102480dd99e7a90d6  Elvis Costello & The Attractions   \n",
       "4  9cc0cfd4d7d7885102480dd99e7a90d6                    Elvis Costello   \n",
       "\n",
       "                                           trackname    playlistname  \n",
       "0               (The Angels Wanna Wear My) Red Shoes  HARD ROCK 2010  \n",
       "1  (What's So Funny 'Bout) Peace, Love And Unders...  HARD ROCK 2010  \n",
       "2                                   7 Years Too Late  HARD ROCK 2010  \n",
       "3                              Accidents Will Happen  HARD ROCK 2010  \n",
       "4                                             Alison  HARD ROCK 2010  "
      ]
     },
     "execution_count": 36,
     "metadata": {},
     "output_type": "execute_result"
    }
   ],
   "source": [
    "df.head()"
   ]
  },
  {
   "cell_type": "code",
   "execution_count": 26,
   "id": "42883860",
   "metadata": {},
   "outputs": [],
   "source": [
    "# df = df.groupby(by='user_id')"
   ]
  },
  {
   "cell_type": "code",
   "execution_count": 37,
   "id": "c366d68a",
   "metadata": {},
   "outputs": [],
   "source": [
    "user1_df = df.loc[df.user_id=='9cc0cfd4d7d7885102480dd99e7a90d6']"
   ]
  },
  {
   "cell_type": "code",
   "execution_count": 38,
   "id": "b0387ca7",
   "metadata": {},
   "outputs": [
    {
     "data": {
      "text/html": [
       "<div>\n",
       "<style scoped>\n",
       "    .dataframe tbody tr th:only-of-type {\n",
       "        vertical-align: middle;\n",
       "    }\n",
       "\n",
       "    .dataframe tbody tr th {\n",
       "        vertical-align: top;\n",
       "    }\n",
       "\n",
       "    .dataframe thead th {\n",
       "        text-align: right;\n",
       "    }\n",
       "</style>\n",
       "<table border=\"1\" class=\"dataframe\">\n",
       "  <thead>\n",
       "    <tr style=\"text-align: right;\">\n",
       "      <th></th>\n",
       "      <th>user_id</th>\n",
       "      <th>artistname</th>\n",
       "      <th>trackname</th>\n",
       "      <th>playlistname</th>\n",
       "    </tr>\n",
       "  </thead>\n",
       "  <tbody>\n",
       "    <tr>\n",
       "      <th>0</th>\n",
       "      <td>9cc0cfd4d7d7885102480dd99e7a90d6</td>\n",
       "      <td>Elvis Costello</td>\n",
       "      <td>(The Angels Wanna Wear My) Red Shoes</td>\n",
       "      <td>HARD ROCK 2010</td>\n",
       "    </tr>\n",
       "    <tr>\n",
       "      <th>1</th>\n",
       "      <td>9cc0cfd4d7d7885102480dd99e7a90d6</td>\n",
       "      <td>Elvis Costello &amp; The Attractions</td>\n",
       "      <td>(What's So Funny 'Bout) Peace, Love And Unders...</td>\n",
       "      <td>HARD ROCK 2010</td>\n",
       "    </tr>\n",
       "    <tr>\n",
       "      <th>2</th>\n",
       "      <td>9cc0cfd4d7d7885102480dd99e7a90d6</td>\n",
       "      <td>Tiffany Page</td>\n",
       "      <td>7 Years Too Late</td>\n",
       "      <td>HARD ROCK 2010</td>\n",
       "    </tr>\n",
       "    <tr>\n",
       "      <th>3</th>\n",
       "      <td>9cc0cfd4d7d7885102480dd99e7a90d6</td>\n",
       "      <td>Elvis Costello &amp; The Attractions</td>\n",
       "      <td>Accidents Will Happen</td>\n",
       "      <td>HARD ROCK 2010</td>\n",
       "    </tr>\n",
       "    <tr>\n",
       "      <th>4</th>\n",
       "      <td>9cc0cfd4d7d7885102480dd99e7a90d6</td>\n",
       "      <td>Elvis Costello</td>\n",
       "      <td>Alison</td>\n",
       "      <td>HARD ROCK 2010</td>\n",
       "    </tr>\n",
       "    <tr>\n",
       "      <th>...</th>\n",
       "      <td>...</td>\n",
       "      <td>...</td>\n",
       "      <td>...</td>\n",
       "      <td>...</td>\n",
       "    </tr>\n",
       "    <tr>\n",
       "      <th>99</th>\n",
       "      <td>9cc0cfd4d7d7885102480dd99e7a90d6</td>\n",
       "      <td>Bruce Springsteen</td>\n",
       "      <td>The River</td>\n",
       "      <td>IOW 2012</td>\n",
       "    </tr>\n",
       "    <tr>\n",
       "      <th>100</th>\n",
       "      <td>9cc0cfd4d7d7885102480dd99e7a90d6</td>\n",
       "      <td>Bruce Springsteen</td>\n",
       "      <td>We Take Care Of Our Own</td>\n",
       "      <td>IOW 2012</td>\n",
       "    </tr>\n",
       "    <tr>\n",
       "      <th>101</th>\n",
       "      <td>9cc0cfd4d7d7885102480dd99e7a90d6</td>\n",
       "      <td>Bruce Springsteen</td>\n",
       "      <td>Wrecking Ball</td>\n",
       "      <td>IOW 2012</td>\n",
       "    </tr>\n",
       "    <tr>\n",
       "      <th>102</th>\n",
       "      <td>9cc0cfd4d7d7885102480dd99e7a90d6</td>\n",
       "      <td>Pearl Jam</td>\n",
       "      <td>Yellow Ledbetter</td>\n",
       "      <td>IOW 2012</td>\n",
       "    </tr>\n",
       "    <tr>\n",
       "      <th>103</th>\n",
       "      <td>9cc0cfd4d7d7885102480dd99e7a90d6</td>\n",
       "      <td>Elbow</td>\n",
       "      <td>the birds</td>\n",
       "      <td>IOW 2012</td>\n",
       "    </tr>\n",
       "  </tbody>\n",
       "</table>\n",
       "<p>104 rows × 4 columns</p>\n",
       "</div>"
      ],
      "text/plain": [
       "                              user_id                        artistname  \\\n",
       "0    9cc0cfd4d7d7885102480dd99e7a90d6                    Elvis Costello   \n",
       "1    9cc0cfd4d7d7885102480dd99e7a90d6  Elvis Costello & The Attractions   \n",
       "2    9cc0cfd4d7d7885102480dd99e7a90d6                      Tiffany Page   \n",
       "3    9cc0cfd4d7d7885102480dd99e7a90d6  Elvis Costello & The Attractions   \n",
       "4    9cc0cfd4d7d7885102480dd99e7a90d6                    Elvis Costello   \n",
       "..                                ...                               ...   \n",
       "99   9cc0cfd4d7d7885102480dd99e7a90d6                 Bruce Springsteen   \n",
       "100  9cc0cfd4d7d7885102480dd99e7a90d6                 Bruce Springsteen   \n",
       "101  9cc0cfd4d7d7885102480dd99e7a90d6                 Bruce Springsteen   \n",
       "102  9cc0cfd4d7d7885102480dd99e7a90d6                         Pearl Jam   \n",
       "103  9cc0cfd4d7d7885102480dd99e7a90d6                             Elbow   \n",
       "\n",
       "                                             trackname    playlistname  \n",
       "0                 (The Angels Wanna Wear My) Red Shoes  HARD ROCK 2010  \n",
       "1    (What's So Funny 'Bout) Peace, Love And Unders...  HARD ROCK 2010  \n",
       "2                                     7 Years Too Late  HARD ROCK 2010  \n",
       "3                                Accidents Will Happen  HARD ROCK 2010  \n",
       "4                                               Alison  HARD ROCK 2010  \n",
       "..                                                 ...             ...  \n",
       "99                                           The River        IOW 2012  \n",
       "100                            We Take Care Of Our Own        IOW 2012  \n",
       "101                                      Wrecking Ball        IOW 2012  \n",
       "102                                   Yellow Ledbetter        IOW 2012  \n",
       "103                                          the birds        IOW 2012  \n",
       "\n",
       "[104 rows x 4 columns]"
      ]
     },
     "execution_count": 38,
     "metadata": {},
     "output_type": "execute_result"
    }
   ],
   "source": [
    "user1_df"
   ]
  },
  {
   "cell_type": "code",
   "execution_count": 39,
   "id": "3d60cd22",
   "metadata": {},
   "outputs": [
    {
     "data": {
      "text/plain": [
       "(104, 4)"
      ]
     },
     "execution_count": 39,
     "metadata": {},
     "output_type": "execute_result"
    }
   ],
   "source": [
    "user1_df.shape"
   ]
  },
  {
   "cell_type": "code",
   "execution_count": 40,
   "id": "c649b8d2",
   "metadata": {},
   "outputs": [
    {
     "data": {
      "text/plain": [
       "array(['Elvis Costello', 'Elvis Costello & The Attractions',\n",
       "       'Tiffany Page', 'Lissie', 'Paul McCartney', 'Joe Echo',\n",
       "       'The Breakers', 'The Coronas', 'Crowded House', 'Joshua Radin',\n",
       "       'Cocktail Slippers', 'Crosby, Stills & Nash', 'The Len Price 3',\n",
       "       'Paul McCartney & Eric Clapton', 'Noah And The Whale',\n",
       "       \"Noel Gallagher's High Flying Birds\", 'Pearl Jam',\n",
       "       'Tom Petty And The Heartbreakers', 'Bruce Springsteen', 'Madness',\n",
       "       'Spector', 'Miles Kane', 'Tom Petty', 'Biffy Clyro', 'Elbow',\n",
       "       'Oasis', 'Thunderclap Newman'], dtype=object)"
      ]
     },
     "execution_count": 40,
     "metadata": {},
     "output_type": "execute_result"
    }
   ],
   "source": [
    "user1_df.artistname.unique()"
   ]
  },
  {
   "cell_type": "code",
   "execution_count": 41,
   "id": "c8a85695",
   "metadata": {},
   "outputs": [
    {
     "data": {
      "text/plain": [
       "27"
      ]
     },
     "execution_count": 41,
     "metadata": {},
     "output_type": "execute_result"
    }
   ],
   "source": [
    "len(user1_df.artistname.unique())"
   ]
  },
  {
   "cell_type": "code",
   "execution_count": 42,
   "id": "d350bd83",
   "metadata": {},
   "outputs": [
    {
     "data": {
      "text/plain": [
       "104"
      ]
     },
     "execution_count": 42,
     "metadata": {},
     "output_type": "execute_result"
    }
   ],
   "source": [
    "len(user1_df.trackname.unique())"
   ]
  },
  {
   "cell_type": "code",
   "execution_count": 43,
   "id": "ed465728",
   "metadata": {},
   "outputs": [
    {
     "data": {
      "text/plain": [
       "array(['(The Angels Wanna Wear My) Red Shoes',\n",
       "       \"(What's So Funny 'Bout) Peace, Love And Understanding\",\n",
       "       '7 Years Too Late', 'Accidents Will Happen', 'Alison',\n",
       "       'All Be Okay', 'Band On The Run', 'Beautiful',\n",
       "       'Blackbird - Live at CitiField, NYC - Digital Audio',\n",
       "       'Bright Side', 'Dance The Go-Go', 'Dance Tonight', 'Decision Time',\n",
       "       \"Don't Dream It's Over\", 'Everywhere I Go', 'Fall At Your Feet',\n",
       "       'Four Seasons In One Day', 'Friend Like You',\n",
       "       'Get Lost Get High Get Sick', 'Goodtimes', 'Helplessly Hoping',\n",
       "       'Here Before', 'Here We Go', 'I Am The Blaze',\n",
       "       \"I Don't Believe You\", \"I'd Rather Be With You [Radio Edit]\",\n",
       "       'If You Live Round Here', 'In Sleep', 'In The City',\n",
       "       'In You Are All The Stories', 'Keep Your Eyes On Me', 'Lie To Me',\n",
       "       \"Little Lovin'\", 'Live And Let Die', 'Man Who Used To Be',\n",
       "       'Mastermind', 'Nobody Wants To', 'Not The Girl You Think You Are',\n",
       "       'Oh Mississippi', \"Oliver's Army\",\n",
       "       'On All My Sundays - Liam Shachar Radio Mix',\n",
       "       'On All My Sundays - Liam Shachar Remix', 'Only You',\n",
       "       'Out Of My Mind', 'Personal Alcatraz', 'Phoenix In Dynamite Sky',\n",
       "       'Pictures', \"Sailor's Sweetheart\", 'San Diego Song',\n",
       "       'Sentenced To Love', 'Southern Cross',\n",
       "       \"St. Valentine's Day Massacre\", 'The Darker It Gets',\n",
       "       'The Girl Who Became a Machine',\n",
       "       'The World It Still Revolves - Garage Demo',\n",
       "       'This Is The World We Live In', 'Tramp The Dirt Down',\n",
       "       'Tried So Hard', 'Unequal Love', 'Walk Away Slow',\n",
       "       'Weather With You', 'Wedding Bells', 'What If You',\n",
       "       'What Skin Is All About', 'While My Guitar Weeps', 'Winter',\n",
       "       'You Do Run', '5 Years Time', 'AKA... What A Life!', 'Alive',\n",
       "       'American Girl', 'Atlantic City', 'Baggy Trousers', 'Black',\n",
       "       'Born to Run', 'Chevy Thunder', 'Come Closer',\n",
       "       'Death To My Hometown', 'Even Flow', \"Everybody's On the Run\",\n",
       "       'First of My Kind', \"Free Fallin'\", 'God & Satan',\n",
       "       'Grounds For Divorce', 'House Of Fun', 'Inhaler',\n",
       "       'It Must Be Love', 'Just Breathe', 'L.I.F.E.G.O.E.S.O.N.',\n",
       "       'Learning To Fly', 'Little By Little', 'Many Of Horror',\n",
       "       'Mountains', 'One Day Like This', 'Our House',\n",
       "       'Queen Of The Supermarket',\n",
       "       'Something In The Air - Single Version', 'The Captain',\n",
       "       'The Reason', 'The River', 'We Take Care Of Our Own',\n",
       "       'Wrecking Ball', 'Yellow Ledbetter', 'the birds'], dtype=object)"
      ]
     },
     "execution_count": 43,
     "metadata": {},
     "output_type": "execute_result"
    }
   ],
   "source": [
    "user1_df.trackname.unique()"
   ]
  },
  {
   "cell_type": "code",
   "execution_count": 45,
   "id": "d5cb5744",
   "metadata": {},
   "outputs": [
    {
     "data": {
      "text/plain": [
       "2032045"
      ]
     },
     "execution_count": 45,
     "metadata": {},
     "output_type": "execute_result"
    }
   ],
   "source": [
    "len(df.trackname.unique())"
   ]
  },
  {
   "cell_type": "code",
   "execution_count": 46,
   "id": "4b03f6ff",
   "metadata": {},
   "outputs": [
    {
     "data": {
      "text/plain": [
       "(12891680, 4)"
      ]
     },
     "execution_count": 46,
     "metadata": {},
     "output_type": "execute_result"
    }
   ],
   "source": [
    "df.shape"
   ]
  },
  {
   "cell_type": "code",
   "execution_count": 47,
   "id": "9db661f9",
   "metadata": {},
   "outputs": [
    {
     "data": {
      "text/plain": [
       "6.344190212323054"
      ]
     },
     "execution_count": 47,
     "metadata": {},
     "output_type": "execute_result"
    }
   ],
   "source": [
    "12891680/2032045"
   ]
  },
  {
   "cell_type": "code",
   "execution_count": 48,
   "id": "516f867a",
   "metadata": {},
   "outputs": [
    {
     "data": {
      "text/plain": [
       "15918"
      ]
     },
     "execution_count": 48,
     "metadata": {},
     "output_type": "execute_result"
    }
   ],
   "source": [
    "len(df.user_id.unique())"
   ]
  },
  {
   "cell_type": "code",
   "execution_count": null,
   "id": "385d4c4b",
   "metadata": {},
   "outputs": [],
   "source": [
    "len(df.user_id.unique())"
   ]
  },
  {
   "cell_type": "code",
   "execution_count": 49,
   "id": "80b2a5df",
   "metadata": {},
   "outputs": [
    {
     "data": {
      "text/plain": [
       "2032045"
      ]
     },
     "execution_count": 49,
     "metadata": {},
     "output_type": "execute_result"
    }
   ],
   "source": [
    "len(df.trackname.unique())"
   ]
  },
  {
   "cell_type": "code",
   "execution_count": 50,
   "id": "4a16d089",
   "metadata": {},
   "outputs": [
    {
     "data": {
      "text/html": [
       "<div>\n",
       "<style scoped>\n",
       "    .dataframe tbody tr th:only-of-type {\n",
       "        vertical-align: middle;\n",
       "    }\n",
       "\n",
       "    .dataframe tbody tr th {\n",
       "        vertical-align: top;\n",
       "    }\n",
       "\n",
       "    .dataframe thead th {\n",
       "        text-align: right;\n",
       "    }\n",
       "</style>\n",
       "<table border=\"1\" class=\"dataframe\">\n",
       "  <thead>\n",
       "    <tr style=\"text-align: right;\">\n",
       "      <th></th>\n",
       "      <th>user_id</th>\n",
       "      <th>artistname</th>\n",
       "      <th>trackname</th>\n",
       "      <th>playlistname</th>\n",
       "    </tr>\n",
       "  </thead>\n",
       "  <tbody>\n",
       "    <tr>\n",
       "      <th>17773</th>\n",
       "      <td>50346e4190d1707ebc6b39a95f86927a</td>\n",
       "      <td>Henri Salvador</td>\n",
       "      <td>Dans mon île</td>\n",
       "      <td>C'est beau ça</td>\n",
       "    </tr>\n",
       "    <tr>\n",
       "      <th>18587</th>\n",
       "      <td>50346e4190d1707ebc6b39a95f86927a</td>\n",
       "      <td>Henri Salvador</td>\n",
       "      <td>Jardin d'hiver</td>\n",
       "      <td>Les dimanches à la fenêtre et la pluie</td>\n",
       "    </tr>\n",
       "    <tr>\n",
       "      <th>402567</th>\n",
       "      <td>987c26ed0980dd24ec9e6c4ceafe6790</td>\n",
       "      <td>Henri Salvador</td>\n",
       "      <td>Mais non, mais non - Mah-na, Mah-na</td>\n",
       "      <td>música francesa para elena</td>\n",
       "    </tr>\n",
       "    <tr>\n",
       "      <th>402610</th>\n",
       "      <td>987c26ed0980dd24ec9e6c4ceafe6790</td>\n",
       "      <td>Henri Salvador</td>\n",
       "      <td>Saint Germain Des Pres</td>\n",
       "      <td>música francesa para elena</td>\n",
       "    </tr>\n",
       "    <tr>\n",
       "      <th>683998</th>\n",
       "      <td>4a6a3dd3319cc2c0e5ae15fe06446d0e</td>\n",
       "      <td>Henri Salvador</td>\n",
       "      <td>As-Tu Vu Adèle</td>\n",
       "      <td>ADELE</td>\n",
       "    </tr>\n",
       "    <tr>\n",
       "      <th>...</th>\n",
       "      <td>...</td>\n",
       "      <td>...</td>\n",
       "      <td>...</td>\n",
       "      <td>...</td>\n",
       "    </tr>\n",
       "    <tr>\n",
       "      <th>12130351</th>\n",
       "      <td>8f57113217a2315435061ff3b6c4f6a5</td>\n",
       "      <td>Henri Salvador</td>\n",
       "      <td>La danse de Zorba</td>\n",
       "      <td>La playlist du dimanche</td>\n",
       "    </tr>\n",
       "    <tr>\n",
       "      <th>12130413</th>\n",
       "      <td>8f57113217a2315435061ff3b6c4f6a5</td>\n",
       "      <td>Henri Salvador</td>\n",
       "      <td>Jardin d'hiver</td>\n",
       "      <td>La playlist du marmot</td>\n",
       "    </tr>\n",
       "    <tr>\n",
       "      <th>12343513</th>\n",
       "      <td>2d4272eda7311ae416e00aae41312065</td>\n",
       "      <td>Henri Salvador</td>\n",
       "      <td>Jardin d'hiver</td>\n",
       "      <td>Starred</td>\n",
       "    </tr>\n",
       "    <tr>\n",
       "      <th>12511134</th>\n",
       "      <td>966a3bb64627f83f9d297d058affb936</td>\n",
       "      <td>Henri Salvador</td>\n",
       "      <td>Faut rigoler</td>\n",
       "      <td>Edith Piaf - Les 100 Titres Cultes de la Chans...</td>\n",
       "    </tr>\n",
       "    <tr>\n",
       "      <th>12511177</th>\n",
       "      <td>966a3bb64627f83f9d297d058affb936</td>\n",
       "      <td>Henri Salvador</td>\n",
       "      <td>Maladie d'amour</td>\n",
       "      <td>Edith Piaf - Les 100 Titres Cultes de la Chans...</td>\n",
       "    </tr>\n",
       "  </tbody>\n",
       "</table>\n",
       "<p>161 rows × 4 columns</p>\n",
       "</div>"
      ],
      "text/plain": [
       "                                   user_id      artistname  \\\n",
       "17773     50346e4190d1707ebc6b39a95f86927a  Henri Salvador   \n",
       "18587     50346e4190d1707ebc6b39a95f86927a  Henri Salvador   \n",
       "402567    987c26ed0980dd24ec9e6c4ceafe6790  Henri Salvador   \n",
       "402610    987c26ed0980dd24ec9e6c4ceafe6790  Henri Salvador   \n",
       "683998    4a6a3dd3319cc2c0e5ae15fe06446d0e  Henri Salvador   \n",
       "...                                    ...             ...   \n",
       "12130351  8f57113217a2315435061ff3b6c4f6a5  Henri Salvador   \n",
       "12130413  8f57113217a2315435061ff3b6c4f6a5  Henri Salvador   \n",
       "12343513  2d4272eda7311ae416e00aae41312065  Henri Salvador   \n",
       "12511134  966a3bb64627f83f9d297d058affb936  Henri Salvador   \n",
       "12511177  966a3bb64627f83f9d297d058affb936  Henri Salvador   \n",
       "\n",
       "                                    trackname  \\\n",
       "17773                            Dans mon île   \n",
       "18587                          Jardin d'hiver   \n",
       "402567    Mais non, mais non - Mah-na, Mah-na   \n",
       "402610                 Saint Germain Des Pres   \n",
       "683998                         As-Tu Vu Adèle   \n",
       "...                                       ...   \n",
       "12130351                    La danse de Zorba   \n",
       "12130413                       Jardin d'hiver   \n",
       "12343513                       Jardin d'hiver   \n",
       "12511134                         Faut rigoler   \n",
       "12511177                      Maladie d'amour   \n",
       "\n",
       "                                               playlistname  \n",
       "17773                                         C'est beau ça  \n",
       "18587                Les dimanches à la fenêtre et la pluie  \n",
       "402567                           música francesa para elena  \n",
       "402610                           música francesa para elena  \n",
       "683998                                                ADELE  \n",
       "...                                                     ...  \n",
       "12130351                            La playlist du dimanche  \n",
       "12130413                              La playlist du marmot  \n",
       "12343513                                            Starred  \n",
       "12511134  Edith Piaf - Les 100 Titres Cultes de la Chans...  \n",
       "12511177  Edith Piaf - Les 100 Titres Cultes de la Chans...  \n",
       "\n",
       "[161 rows x 4 columns]"
      ]
     },
     "execution_count": 50,
     "metadata": {},
     "output_type": "execute_result"
    }
   ],
   "source": [
    "df.loc[df.artistname=='Henri Salvador']"
   ]
  },
  {
   "cell_type": "code",
   "execution_count": 73,
   "id": "846e1509",
   "metadata": {},
   "outputs": [],
   "source": [
    "df['artist_track'] = df['artistname'] + df['trackname']"
   ]
  },
  {
   "cell_type": "code",
   "execution_count": 75,
   "id": "68a44fad",
   "metadata": {},
   "outputs": [
    {
     "data": {
      "text/html": [
       "<div>\n",
       "<style scoped>\n",
       "    .dataframe tbody tr th:only-of-type {\n",
       "        vertical-align: middle;\n",
       "    }\n",
       "\n",
       "    .dataframe tbody tr th {\n",
       "        vertical-align: top;\n",
       "    }\n",
       "\n",
       "    .dataframe thead th {\n",
       "        text-align: right;\n",
       "    }\n",
       "</style>\n",
       "<table border=\"1\" class=\"dataframe\">\n",
       "  <thead>\n",
       "    <tr style=\"text-align: right;\">\n",
       "      <th></th>\n",
       "      <th>user_id</th>\n",
       "      <th>artistname</th>\n",
       "      <th>trackname</th>\n",
       "      <th>playlistname</th>\n",
       "      <th>artist_track</th>\n",
       "    </tr>\n",
       "  </thead>\n",
       "  <tbody>\n",
       "    <tr>\n",
       "      <th>0</th>\n",
       "      <td>9cc0cfd4d7d7885102480dd99e7a90d6</td>\n",
       "      <td>Elvis Costello</td>\n",
       "      <td>(theangelswannawearmy)redshoes</td>\n",
       "      <td>HARD ROCK 2010</td>\n",
       "      <td>Elvis Costello(theangelswannawearmy)redshoes</td>\n",
       "    </tr>\n",
       "  </tbody>\n",
       "</table>\n",
       "</div>"
      ],
      "text/plain": [
       "                            user_id      artistname  \\\n",
       "0  9cc0cfd4d7d7885102480dd99e7a90d6  Elvis Costello   \n",
       "\n",
       "                        trackname    playlistname  \\\n",
       "0  (theangelswannawearmy)redshoes  HARD ROCK 2010   \n",
       "\n",
       "                                   artist_track  \n",
       "0  Elvis Costello(theangelswannawearmy)redshoes  "
      ]
     },
     "execution_count": 75,
     "metadata": {},
     "output_type": "execute_result"
    }
   ],
   "source": [
    "df.head(1)"
   ]
  },
  {
   "cell_type": "code",
   "execution_count": 51,
   "id": "44dc3b1c",
   "metadata": {},
   "outputs": [
    {
     "data": {
      "text/html": [
       "<div>\n",
       "<style scoped>\n",
       "    .dataframe tbody tr th:only-of-type {\n",
       "        vertical-align: middle;\n",
       "    }\n",
       "\n",
       "    .dataframe tbody tr th {\n",
       "        vertical-align: top;\n",
       "    }\n",
       "\n",
       "    .dataframe thead th {\n",
       "        text-align: right;\n",
       "    }\n",
       "</style>\n",
       "<table border=\"1\" class=\"dataframe\">\n",
       "  <thead>\n",
       "    <tr style=\"text-align: right;\">\n",
       "      <th></th>\n",
       "      <th>user_id</th>\n",
       "      <th>artistname</th>\n",
       "      <th>trackname</th>\n",
       "      <th>playlistname</th>\n",
       "    </tr>\n",
       "  </thead>\n",
       "  <tbody>\n",
       "  </tbody>\n",
       "</table>\n",
       "</div>"
      ],
      "text/plain": [
       "Empty DataFrame\n",
       "Columns: [user_id, artistname, trackname, playlistname]\n",
       "Index: []"
      ]
     },
     "execution_count": 51,
     "metadata": {},
     "output_type": "execute_result"
    }
   ],
   "source": [
    "df.loc[df.trackname==\"C'est beau de faire un Show\"]"
   ]
  },
  {
   "cell_type": "code",
   "execution_count": 77,
   "id": "530e12f0",
   "metadata": {},
   "outputs": [],
   "source": [
    "df.artist_track = df.artist_track.apply(lambda x: str(x).lower().replace(' ', ''))"
   ]
  },
  {
   "cell_type": "code",
   "execution_count": 78,
   "id": "53dfaeb4",
   "metadata": {},
   "outputs": [
    {
     "data": {
      "text/plain": [
       "0                 elviscostello(theangelswannawearmy)redshoes\n",
       "1           elviscostello&theattractions(what'ssofunny'bou...\n",
       "2                                    tiffanypage7yearstoolate\n",
       "3             elviscostello&theattractionsaccidentswillhappen\n",
       "4                                         elviscostelloalison\n",
       "                                  ...                        \n",
       "12891675                                   mötleycrüewildside\n",
       "12891676                                      johnlennonwoman\n",
       "12891677                       tompettyyoudon'tknowhowitfeels\n",
       "12891678                                   tompettyyouwreckme\n",
       "12891679                                 skidrowyouthgonewild\n",
       "Length: 12891680, dtype: object"
      ]
     },
     "execution_count": 78,
     "metadata": {},
     "output_type": "execute_result"
    }
   ],
   "source": [
    "df.artist_track"
   ]
  },
  {
   "cell_type": "code",
   "execution_count": 79,
   "id": "9ec8479f",
   "metadata": {},
   "outputs": [],
   "source": [
    "info_df = df[['user_id', 'artist_track']]"
   ]
  },
  {
   "cell_type": "code",
   "execution_count": 82,
   "id": "3f24055f",
   "metadata": {},
   "outputs": [],
   "source": [
    "info_df.to_csv('data/info.csv',index=False)"
   ]
  },
  {
   "cell_type": "code",
   "execution_count": null,
   "id": "a0df6fd7",
   "metadata": {},
   "outputs": [],
   "source": []
  }
 ],
 "metadata": {
  "kernelspec": {
   "display_name": "Python 3",
   "language": "python",
   "name": "python3"
  },
  "language_info": {
   "codemirror_mode": {
    "name": "ipython",
    "version": 3
   },
   "file_extension": ".py",
   "mimetype": "text/x-python",
   "name": "python",
   "nbconvert_exporter": "python",
   "pygments_lexer": "ipython3",
   "version": "3.7.6"
  }
 },
 "nbformat": 4,
 "nbformat_minor": 5
}
